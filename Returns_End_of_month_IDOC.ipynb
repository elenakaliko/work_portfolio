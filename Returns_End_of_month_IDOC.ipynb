{
 "cells": [
  {
   "cell_type": "markdown",
   "metadata": {
    "application/vnd.databricks.v1+cell": {
     "cellMetadata": {
      "byteLimit": 2048000,
      "rowLimit": 10000
     },
     "inputWidgets": {},
     "nuid": "ee45767f-295b-47e9-8d83-0164f48cfc25",
     "showTitle": false,
     "tableResultSettingsMap": {},
     "title": ""
    }
   },
   "source": [
    "#ZDR / ZCR documents for SAP (returns, mekubaim)"
   ]
  },
  {
   "cell_type": "markdown",
   "metadata": {
    "application/vnd.databricks.v1+cell": {
     "cellMetadata": {
      "byteLimit": 2048000,
      "rowLimit": 10000
     },
     "inputWidgets": {},
     "nuid": "1c6e9a94-12e0-4590-9297-5574cd05c772",
     "showTitle": false,
     "tableResultSettingsMap": {},
     "title": ""
    }
   },
   "source": [
    "The process is run once per month on the first day of the month for past month to create files with Mekubaim transactions and Discount (Hechzer) transactions (IDOC type). After they are created and saved to Blob (dbfs:\\mnt\\prod\\process\\datastage\\mefizim), the pipeline \"ZC_ZD_transactions_end_of_month\" copies them to backup (\\\\10.213.3.69\\out\\Globe\\backup) and to LAH (\\\\10.213.3.27\\out\\PR\\ILELAHUB01\\csiordrs01)"
   ]
  },
  {
   "cell_type": "markdown",
   "metadata": {
    "application/vnd.databricks.v1+cell": {
     "cellMetadata": {
      "byteLimit": 2048000,
      "rowLimit": 10000
     },
     "inputWidgets": {},
     "nuid": "c461ed86-4ae7-4521-8a94-5e8519d54fdd",
     "showTitle": false,
     "tableResultSettingsMap": {},
     "title": ""
    }
   },
   "source": [
    "\n",
    "### Business process\n",
    "For each purchase, no matter what customer type it is, distributor is supposed to get a discount (return). Also customers from customer groups L91, L92 get extra compensation \"Mekubaim\".  The payment of mekubaim and discounts (returns) is monthly with the reference to the performance of previous month. The % depends on the customer type, cluster (customer group), type of product (Product Hierarchy). The amount of discount for returned goods decreases the total amount of payment ==> it enters to SAP as a negative amount.\n",
    "<br>\n",
    "### Inbound data \n",
    "* `ds_database.hi_sales` -- sales from Pocketlink with relation to distributor numbers\n",
    "* `ds_database.total_monthly` -- table with aggregated data for commission & discounts calculation (see notebook 800 - mefiz commission) \n",
    "### Details of process\n",
    "<br> \n",
    "The process is split in two parts : Returns (Discounts) and Mekubaim. Each part comprises the following steps: <br>\n",
    "1. Extract data from relevant table (`ds_database.hi_sales` for Mekubaim and `ds_database.total_monthly` for Returns) <br>\n",
    "2. Process the data to identify the type of transaction (Zd03, Zd12, Zd45) <br>\n",
    "3. Prepare data to fit the IDOC format: <br>\n",
    "a. prepare header for each distributor (lines 1-17)<br>\n",
    "b. prepare body for each distributor for each Material number: three lines with number, billing type, amount <br>\n",
    "4. Generate dataset with the structure from p.3 <br>\n",
    "5. Convert it to string and save to file <br>"
   ]
  },
  {
   "cell_type": "code",
   "execution_count": 0,
   "metadata": {
    "application/vnd.databricks.v1+cell": {
     "cellMetadata": {
      "byteLimit": 2048000,
      "rowLimit": 10000
     },
     "inputWidgets": {},
     "nuid": "e324787e-116e-4cd0-bcc0-4858dc94f052",
     "showTitle": false,
     "tableResultSettingsMap": {},
     "title": ""
    }
   },
   "outputs": [],
   "source": [
    "import time\n",
    "from datetime import datetime, timedelta\n",
    "from pyspark.sql.window import Window\n",
    "from pyspark.sql.functions import row_number, concat_ws\n",
    "from pyspark.sql.types import StructField,  StringType, StructType\n",
    "from pyspark.sql.functions import lit, col, abs, round, lpad, rpad, sum, round,concat, max, when, right,trim"
   ]
  },
  {
   "cell_type": "code",
   "execution_count": 0,
   "metadata": {
    "application/vnd.databricks.v1+cell": {
     "cellMetadata": {
      "byteLimit": 2048000,
      "rowLimit": 10000
     },
     "inputWidgets": {},
     "nuid": "f7060bb5-9741-4cba-9e8c-9c45a356bf9a",
     "showTitle": false,
     "tableResultSettingsMap": {},
     "title": ""
    }
   },
   "outputs": [
    {
     "output_type": "stream",
     "name": "stdout",
     "output_type": "stream",
     "text": [
      "Extract data for the month: 02 / 2025\n"
     ]
    }
   ],
   "source": [
    "report_date = datetime.now()\n",
    "rec_month = f'{report_date.month:02d}'\n",
    "rec_year = report_date.year\n",
    "output_location = \"dbfs:/mnt/prod/process/datastage/mefizim/\"\n",
    "print(\"Extract data for the month:\", rec_month, \"/\", rec_year)"
   ]
  },
  {
   "cell_type": "code",
   "execution_count": 0,
   "metadata": {
    "application/vnd.databricks.v1+cell": {
     "cellMetadata": {
      "byteLimit": 2048000,
      "rowLimit": 10000
     },
     "inputWidgets": {},
     "nuid": "aa1b5917-a679-48f0-8778-da6c100a24e6",
     "showTitle": false,
     "tableResultSettingsMap": {},
     "title": ""
    }
   },
   "outputs": [],
   "source": [
    "distr_chnl_list = [\"06\", \"08\"]\n",
    "trans_type = [\"ZCR\", \"ZDR\"]"
   ]
  },
  {
   "cell_type": "markdown",
   "metadata": {
    "application/vnd.databricks.v1+cell": {
     "cellMetadata": {
      "byteLimit": 2048000,
      "rowLimit": 10000
     },
     "inputWidgets": {},
     "nuid": "55a01044-91d3-4a98-a9d5-a7f11dc00a0a",
     "showTitle": false,
     "tableResultSettingsMap": {},
     "title": ""
    }
   },
   "source": [
    "## Supporting functions"
   ]
  },
  {
   "cell_type": "markdown",
   "metadata": {
    "application/vnd.databricks.v1+cell": {
     "cellMetadata": {
      "byteLimit": 2048000,
      "rowLimit": 10000
     },
     "inputWidgets": {},
     "nuid": "4a80f239-031b-4e22-af70-7c167461bc0b",
     "showTitle": false,
     "tableResultSettingsMap": {},
     "title": ""
    }
   },
   "source": [
    "*ZCR* transaction type includes all the lines with value >0 <br>\n",
    "*ZDR* transaction type includes lines with value<0"
   ]
  },
  {
   "cell_type": "code",
   "execution_count": 0,
   "metadata": {
    "application/vnd.databricks.v1+cell": {
     "cellMetadata": {
      "byteLimit": 2048000,
      "rowLimit": 10000
     },
     "inputWidgets": {},
     "nuid": "604ff0e6-5756-424a-8612-892a4cbed125",
     "showTitle": false,
     "tableResultSettingsMap": {},
     "title": ""
    }
   },
   "outputs": [],
   "source": [
    "# function to transform the dataframe to the type of transaction ZDR / ZCR\n",
    "def transform_df_to_type(df, type, step):\n",
    "  if type == \"ZCR\" and step ==\"mekubaim\":\n",
    "    df_1 = df.filter(df.zd12>0).withColumn(\"type\", lit(\"ZD12\")).withColumnRenamed(\"zd12\", \"value\")\n",
    "    df_2 = df.filter(df.zd03>0).withColumn(\"type\", lit(\"ZD03\")).withColumnRenamed(\"zd03\", \"value\")\n",
    "    df_final = df_1.drop(\"zd03\").union(df_2.drop(\"zd12\"))\n",
    "    df_final = df_final.orderBy(\"Distribution_Channel\", \"CODE_MEFIZ\", \"Item_Num\")\n",
    "  elif type == \"ZDR\"and step ==\"mekubaim\":\n",
    "    df_1 = df.filter(df.zd03<0).withColumn(\"type\", lit(\"ZD03\")).withColumn(\"value\", lit(abs(col(\"zd03\"))))\n",
    "    df_2 = df.filter(df.zd12<0).withColumn(\"type\", lit(\"ZD12\")).withColumn(\"value\", lit(abs(col(\"zd12\"))))\n",
    "    df_final = df_1.drop(\"zd12\",\"zd03\").union(df_2.drop(\"zd12\", \"zd03\")) \n",
    "    df_final = df_final.orderBy(\"Distribution_Channel\", \"CODE_MEFIZ\", \"Item_Num\")\n",
    "    \n",
    "  elif type == \"ZCR\" and step ==\"hechzer\": \n",
    "    df_final = df.filter(df.value>0).withColumn(\"type\", lit(\"ZD45\")).orderBy(\"CODE_MEFIZ\", \"Item_Num\")\n",
    "  else:\n",
    "    df_final = df.filter(df.value<0).withColumn(\"type\", lit(\"ZD45\")).withColumn(\"value\", lit(abs(col(\"value\")))).orderBy(\"CODE_MEFIZ\", \"Item_Num\")\n",
    "  \n",
    "  return df_final"
   ]
  },
  {
   "cell_type": "code",
   "execution_count": 0,
   "metadata": {
    "application/vnd.databricks.v1+cell": {
     "cellMetadata": {
      "byteLimit": 2048000,
      "rowLimit": 10000
     },
     "inputWidgets": {},
     "nuid": "3015fe5f-d158-42a2-b0d4-5c768cfc4dfd",
     "showTitle": false,
     "tableResultSettingsMap": {},
     "title": ""
    }
   },
   "outputs": [],
   "source": [
    "# function that generates header lines - from 1 to 17\n",
    "def type_header(ttype, step, rec_month, rec_year):\n",
    "  year = str(rec_year)[2:]  \n",
    "  if step == \"mekubaim\":\n",
    "    header_stmt=f'''\n",
    "  with stab_columns as (\n",
    "  SELECT\n",
    "    *\n",
    "  FROM\n",
    "  VALUES\n",
    "    ('E2EDK01005', '000001', '001'),\n",
    "    ('E2EDK14', '000008', '006'),\n",
    "    ('E2EDK14', '000009', '007'),\n",
    "    ('E2EDK14', '000010', '008'),\n",
    "    ('E2EDK14', '000011', '012'),\n",
    "    ('', '000012', ''),\n",
    "    ('E2EDKA1003', '000013', 'AG '),\n",
    "    ('E2EDKA1003', '000014', 'WE '),\n",
    "    ('E2EDK02', '000015', '001'),\n",
    "    ('E2EDK02', '000016', '017'),\n",
    "    ('E2EDK02', '000017', '011') AS data(part1, part3, part5))\n",
    "    select distinct code_mefiz, \n",
    "      distribution_channel, \n",
    "      cast(part3 as int) as sort_order, \n",
    "      case when part3 = \"000012\" then \"\" else RPAD(part1, 10, \" \") end as part1, \n",
    "      case when part3 = '000012' then '' else LPAD(\"1329000000000055271\", 39, \" \") end as part2, \n",
    "      case when part3 = '000012' then '' else part3 end as part3,  \n",
    "      case when part3 = '000012' then '' else \"00000001\" end as part4, \n",
    "      case when part3 = '000012' then '' else part5 end as part5,\n",
    "    case \n",
    "    when part3 = \"000001\" then concat(RPAD(\" ILSILS\", 79, \" \"), RPAD(\" Price Difference IA  {rec_year}-{rec_month}\", 142, \" \"), RPAD(\"PR\", 158, \" \"))\n",
    "    when part3 = \"000008\" then RPAD(\"00\", 35, \" \")\n",
    "    when part3 = \"000009\" then RPAD(Lpad(Distribution_channel, 2, \"0\"), 35, \" \")\n",
    "    when part3 = \"000010\" then RPAD(\"IL20\", 35, \" \")\n",
    "    when part3 = \"000011\" then RPAD(\"{ttype}\", 39, \" \")\n",
    "    when part3 = \"000013\" then RPAD(code_mefiz, 1016, \" \")\n",
    "    when part3 = \"000014\" then RPAD(code_mefiz, 1016, \" \")\n",
    "    when part3 = \"000015\" then RPAD(left(payer_desc,17),75, \" \")\n",
    "    when part3 = \"000016\" then RPAD(\"{rec_month}/{year}Price Diff\",75, \" \")\n",
    "    when part3 = \"000017\" then RPAD(code_mefiz,75, \" \")\n",
    "    end as part6\n",
    "    from ds_database.total_monthly\n",
    "    join (select distinct payer_desc, payer from bo_interfaces.g_clients) g_clients on g_clients.payer = total_monthly.code_mefiz\n",
    "    cross join stab_columns\n",
    "    order by code_mefiz, sort_order'''\n",
    "  else:\n",
    "    header_stmt=f'''with stab_columns as (\n",
    "  SELECT\n",
    "    *\n",
    "  FROM\n",
    "  VALUES    \n",
    "  ('E2EDK01005', '000001', '001'),\n",
    "  ('E2EDK14', '000008', '006'),\n",
    "  ('E2EDK14', '000009', '007'),\n",
    "  ('E2EDK14', '000010', '008'),\n",
    "  ('E2EDK14', '000011', '012'),\n",
    "  ('E2EDK03', '000012', '016'),\n",
    "  ('E2EDKA1003', '000013', 'AG '),\n",
    "  ('E2EDKA1003', '000014', 'WE '),\n",
    "  ('E2EDK02', '000015', '001'),\n",
    "  ('E2EDK02', '000016', '017'),\n",
    "  ('E2EDK02', '000017', '011') \n",
    " AS data(part1, part3, part5))\n",
    "    select distinct code_mefiz, \n",
    "      distribution_channel, \n",
    "      cast(part3 as int) as sort_order, \n",
    "      RPAD(part1, 10, \" \") as part1, \n",
    "      LPAD(\"1329000000000055271\", 39, \" \") as part2, \n",
    "      part3,  \n",
    "      \"00000001\" as part4, \n",
    "      part5,\n",
    "    case \n",
    "    when part3 = \"000001\" then concat(RPAD(\" ILSILS\", 79, \" \"), RPAD(\" No Return Agreement  {rec_year}-{rec_month}\", 142, \" \"), RPAD(\"PR\", 167, \" \"))\n",
    "  when part3 = \"000008\" then RPAD(\"00\", 35, \" \")\n",
    "  when part3 = \"000009\" then RPAD(Lpad(Distribution_channel, 2, \"0\"), 35, \" \")\n",
    "  when part3 = \"000010\" then RPAD(\"IL20\", 35, \" \")\n",
    "    when part3 = \"000011\" then RPAD(\"{ttype}\", 39, \" \")\n",
    "  when part3 = \"000012\" then DATE_FORMAT(current_date, 'yyyyMMdd000000')\n",
    "    when part3 = \"000013\" then RPAD(code_mefiz, 1016, \" \")\n",
    "    when part3 = \"000014\" then RPAD(code_mefiz, 1016, \" \")\n",
    "    when part3 = \"000015\" then RPAD(left(payer_desc,17),75, \" \")\n",
    "    when part3 = \"000016\" then RPAD(\"{rec_month}/{year}No Return\",75, \" \")\n",
    "  when part3 = \"000017\" then RPAD(code_mefiz,75, \" \")\n",
    "\n",
    "    end as part6\n",
    "    from ds_database.total_monthly\n",
    "    join (select distinct payer_desc, payer from bo_interfaces.g_clients) g_clients on g_clients.payer = total_monthly.code_mefiz\n",
    "    cross join stab_columns\n",
    "    order by code_mefiz, sort_order'''\n",
    "  return spark.sql(header_stmt)"
   ]
  },
  {
   "cell_type": "code",
   "execution_count": 0,
   "metadata": {
    "application/vnd.databricks.v1+cell": {
     "cellMetadata": {
      "byteLimit": 2048000,
      "rowLimit": 10000
     },
     "inputWidgets": {},
     "nuid": "2e1a6507-e2e7-4f09-94a4-61ea0ca62796",
     "showTitle": false,
     "tableResultSettingsMap": {},
     "title": ""
    }
   },
   "outputs": [],
   "source": [
    "# function that generates 3 lines for each material in specific format to fit SAP format\n",
    "def material_lines(dataset, code):\n",
    "  data = [(\"E2EDP01006\",\"1329000000000055271\",\"000000013  \"),\n",
    "  (\"E2EDP05002\",\"1329000000000055271\",\"00001802   \"),  \n",
    "  (\"E2EDP19001\",\"1329000000000055271\", \"00002102002\" )]\n",
    "  df = spark.createDataFrame(data, [\"part1\", \"part2\", \"part4\"])\n",
    "  df_final = dataset.filter(col(\"code_mefiz\") == code).crossJoin(df).orderBy(\"code_mefiz\",\"Item_Num\", \"part1\")\\\n",
    "      .withColumn(\"part5\", when(col(\"part1\")==\"E2EDP01006\", rpad(lit(\"   001 10\"),460, \" \")).otherwise(when(col(\"part1\")==\"E2EDP05002\", rpad(lit(col(\"type\")),110, \" \")).otherwise(rpad(lit(col(\"Item_Num\")), 423, \" \"))))\\\n",
    "        .withColumn(\"part6\", when(col(\"part1\") ==\"E2EDP05002\", rpad(rpad(col(\"value\"), 7, \" \"),127,\" \")).otherwise(\"\"))\n",
    "  window_spec = Window.partitionBy(\"code_mefiz\").orderBy(\"code_mefiz\", \"Item_Num\", \"type\", \"part1\")\n",
    "  df_final = df_final.withColumn(\"row_number\", row_number().over(window_spec))\\\n",
    "          .withColumn(\"part3\", lpad(col(\"row_number\")+17, 6, \"0\"))\n",
    "  df_final = df_final.select(\"part1\", lpad(\"part2\", 39, \" \").alias(\"part2\"), \"part3\", \"part4\", \"part5\", \"part6\", \"row_number\")\n",
    "  return df_final"
   ]
  },
  {
   "cell_type": "markdown",
   "metadata": {
    "application/vnd.databricks.v1+cell": {
     "cellMetadata": {
      "byteLimit": 2048000,
      "rowLimit": 10000
     },
     "inputWidgets": {},
     "nuid": "43520ae6-7816-49bb-ac43-06fe94644f48",
     "showTitle": false,
     "tableResultSettingsMap": {},
     "title": ""
    }
   },
   "source": [
    "##Mekubaim"
   ]
  },
  {
   "cell_type": "markdown",
   "metadata": {
    "application/vnd.databricks.v1+cell": {
     "cellMetadata": {
      "byteLimit": 2048000,
      "rowLimit": 10000
     },
     "inputWidgets": {},
     "nuid": "79ee870f-58e6-4899-b37e-aef728296584",
     "showTitle": false,
     "tableResultSettingsMap": {},
     "title": ""
    }
   },
   "source": [
    "If one payer has two points of sale, they will be both aggregated under payer account."
   ]
  },
  {
   "cell_type": "markdown",
   "metadata": {
    "application/vnd.databricks.v1+cell": {
     "cellMetadata": {
      "byteLimit": 2048000,
      "rowLimit": 10000
     },
     "inputWidgets": {},
     "nuid": "5261db40-96e1-407d-ad68-e245d5041d09",
     "showTitle": false,
     "tableResultSettingsMap": {},
     "title": ""
    }
   },
   "source": [
    "Specific case: distributor 4082544, sales employee Yaniv Gerbi - in data stage it is replaced by sales employee 10467039 (Shmuel Gerbi). As a result, this distributor is not a part of the file with mekubaim"
   ]
  },
  {
   "cell_type": "code",
   "execution_count": 0,
   "metadata": {
    "application/vnd.databricks.v1+cell": {
     "cellMetadata": {
      "byteLimit": 2048000,
      "implicitDf": true,
      "rowLimit": 10000
     },
     "inputWidgets": {},
     "nuid": "5e60c0ba-32af-4608-8965-2298a08509b0",
     "showTitle": false,
     "tableResultSettingsMap": {
      "0": {
       "filterBlob": "{\"filterGroups\":[],\"syncTimestamp\":1735124875265}",
       "tableResultIndex": 0
      }
     },
     "title": ""
    }
   },
   "outputs": [
    {
     "output_type": "display_data",
     "data": {
      "text/html": [
       "<style scoped>\n",
       "  .table-result-container {\n",
       "    max-height: 300px;\n",
       "    overflow: auto;\n",
       "  }\n",
       "  table, th, td {\n",
       "    border: 1px solid black;\n",
       "    border-collapse: collapse;\n",
       "  }\n",
       "  th, td {\n",
       "    padding: 5px;\n",
       "  }\n",
       "  th {\n",
       "    text-align: left;\n",
       "  }\n",
       "</style><div class='table-result-container'><table class='table-result'><thead style='background-color: white'><tr><th>Distribution_Channel</th><th>CODE_MEFIZ</th><th>Item_Num</th><th>zd03</th><th>zd12</th></tr></thead><tbody><tr><td>06</td><td>2819344</td><td>6910899</td><td>2295.2</td><td>4269.12</td></tr><tr><td>06</td><td>2819344</td><td>6910949</td><td>228.9</td><td>273.7</td></tr><tr><td>06</td><td>2819344</td><td>6921298</td><td>0.0</td><td>6101.55</td></tr><tr><td>06</td><td>2819344</td><td>6921370</td><td>0.0</td><td>-1981.98</td></tr><tr><td>06</td><td>2819344</td><td>6921383</td><td>0.0</td><td>768.74</td></tr><tr><td>06</td><td>2819344</td><td>6921385</td><td>0.0</td><td>91.02</td></tr><tr><td>06</td><td>2819344</td><td>6921387</td><td>0.0</td><td>959.34</td></tr><tr><td>06</td><td>2819344</td><td>6921397</td><td>0.0</td><td>479.67</td></tr><tr><td>06</td><td>2819344</td><td>6921404</td><td>0.0</td><td>615.23</td></tr><tr><td>06</td><td>2819344</td><td>6921408</td><td>0.0</td><td>1400.49</td></tr></tbody></table></div>"
      ]
     },
     "metadata": {
      "application/vnd.databricks.v1+output": {
       "addedWidgets": {},
       "aggData": [],
       "aggError": "",
       "aggOverflow": false,
       "aggSchema": [],
       "aggSeriesLimitReached": false,
       "aggType": "",
       "arguments": {},
       "columnCustomDisplayInfos": {},
       "data": [
        [
         "06",
         "2819344",
         "6910899",
         2295.2,
         4269.12
        ],
        [
         "06",
         "2819344",
         "6910949",
         228.9,
         273.7
        ],
        [
         "06",
         "2819344",
         "6921298",
         0.0,
         6101.55
        ],
        [
         "06",
         "2819344",
         "6921370",
         0.0,
         -1981.98
        ],
        [
         "06",
         "2819344",
         "6921383",
         0.0,
         768.74
        ],
        [
         "06",
         "2819344",
         "6921385",
         0.0,
         91.02
        ],
        [
         "06",
         "2819344",
         "6921387",
         0.0,
         959.34
        ],
        [
         "06",
         "2819344",
         "6921397",
         0.0,
         479.67
        ],
        [
         "06",
         "2819344",
         "6921404",
         0.0,
         615.23
        ],
        [
         "06",
         "2819344",
         "6921408",
         0.0,
         1400.49
        ]
       ],
       "datasetInfos": [],
       "dbfsResultPath": null,
       "isJsonSchema": true,
       "metadata": {},
       "overflow": false,
       "plotOptions": {
        "customPlotOptions": {},
        "displayType": "table",
        "pivotAggregation": null,
        "pivotColumns": null,
        "xColumns": null,
        "yColumns": null
       },
       "removedWidgets": [],
       "schema": [
        {
         "metadata": "{}",
         "name": "Distribution_Channel",
         "type": "\"string\""
        },
        {
         "metadata": "{}",
         "name": "CODE_MEFIZ",
         "type": "\"string\""
        },
        {
         "metadata": "{}",
         "name": "Item_Num",
         "type": "\"string\""
        },
        {
         "metadata": "{}",
         "name": "zd03",
         "type": "\"double\""
        },
        {
         "metadata": "{}",
         "name": "zd12",
         "type": "\"double\""
        }
       ],
       "type": "table"
      }
     },
     "output_type": "display_data"
    }
   ],
   "source": [
    "mekubaim_stmt =f'''\n",
    "select \n",
    "Distribution_Channel, \n",
    "CODE_MEFIZ,\n",
    "Item_Num,\n",
    "round(sum(HAN_MISHARIT),2) as zd03,\n",
    "round(sum(HAN_MIVZA),2) as zd12\n",
    " from ds_database.hi_sales\n",
    " join (select distinct payer_desc, payer from bo_interfaces.g_clients) g_clients on g_clients.payer = hi_sales.code_mefiz\n",
    "where REC_MONTH = {rec_month}\n",
    "and rec_year = {rec_year}\n",
    "and code_mefiz <> 4082544 ---specific case, see above\n",
    "group by Distribution_Channel, CODE_MEFIZ, Item_Num\n",
    "order by Distribution_Channel, CODE_MEFIZ, cast(Item_Num as int)\n",
    "'''\n",
    "#print(mekubaim_stmt)\n",
    "mekubaim = spark.sql(mekubaim_stmt)\n",
    "display(mekubaim.limit(10))"
   ]
  },
  {
   "cell_type": "code",
   "execution_count": 0,
   "metadata": {
    "application/vnd.databricks.v1+cell": {
     "cellMetadata": {
      "byteLimit": 2048000,
      "rowLimit": 10000
     },
     "inputWidgets": {},
     "nuid": "6d312e61-3151-4d00-a7a1-9bfb6fcb8476",
     "showTitle": false,
     "tableResultSettingsMap": {},
     "title": ""
    }
   },
   "outputs": [
    {
     "output_type": "stream",
     "name": "stdout",
     "output_type": "stream",
     "text": [
      "*************************************\nDistribution channel 06\nList of distributors in Dist chnl  06 ['2819344', '2820225', '2820226', '2820248', '2820270', '2820283', '2820290', '2820292', '2820347', '2820355', '2820357', '2820384', '2820389', '2820415', '3016129', '3553396', '3871381', '3910846', '3946007', '4048372', '4068540', '5070229', '5268076', '5442980', '5450846', '6172353', '6901630']\n*****************************\nDistributor: 2819344\nZCR number of lines: 76\ntotal value of ZCR document:  136104.24145507812\nZCR processing time: 13 s\nZDR number of lines: 0\nNo lines for ZDR for distributor 2819344\n*****************************\nDistributor: 2820225\nZCR number of lines: 159\ntotal value of ZCR document:  110909.6696126461\nZCR processing time: 9 s\nZDR number of lines: 10\ntotal value of ZDR document:  139.82999831438065\nZDR processing time: 18 s\n*****************************\nDistributor: 2820226\nZCR number of lines: 189\ntotal value of ZCR document:  96995.4493150711\nZCR processing time: 9 s\nZDR number of lines: 5\ntotal value of ZDR document:  262.74999928474426\nZDR processing time: 19 s\n*****************************\nDistributor: 2820248\nZCR number of lines: 200\ntotal value of ZCR document:  151930.88200855255\nZCR processing time: 9 s\nZDR number of lines: 5\ntotal value of ZDR document:  123.51999890804291\nZDR processing time: 19 s\n*****************************\nDistributor: 2820270\nZCR number of lines: 118\ntotal value of ZCR document:  38387.03983783722\nZCR processing time: 10 s\nZDR number of lines: 2\ntotal value of ZDR document:  19.670000553131104\nZDR processing time: 19 s\n*****************************\nDistributor: 2820283\nZCR number of lines: 190\ntotal value of ZCR document:  110463.20950984955\nZCR processing time: 9 s\nZDR number of lines: 5\ntotal value of ZDR document:  84.97999942302704\nZDR processing time: 18 s\n*****************************\nDistributor: 2820290\nZCR number of lines: 131\ntotal value of ZCR document:  36922.12970781326\nZCR processing time: 8 s\nZDR number of lines: 4\ntotal value of ZDR document:  76.07999849319458\nZDR processing time: 17 s\n*****************************\nDistributor: 2820292\nZCR number of lines: 164\ntotal value of ZCR document:  85874.3401620388\nZCR processing time: 9 s\nZDR number of lines: 8\ntotal value of ZDR document:  42.66000008583069\nZDR processing time: 19 s\n*****************************\nDistributor: 2820347\nZCR number of lines: 134\ntotal value of ZCR document:  66567.11074590683\nZCR processing time: 9 s\nZDR number of lines: 4\ntotal value of ZDR document:  49.579999923706055\nZDR processing time: 19 s\n*****************************\nDistributor: 2820355\nZCR number of lines: 206\ntotal value of ZCR document:  39478.290150642395\nZCR processing time: 10 s\nZDR number of lines: 5\ntotal value of ZDR document:  124.99000072479248\nZDR processing time: 20 s\n*****************************\nDistributor: 2820357\nZCR number of lines: 138\ntotal value of ZCR document:  18284.49995303154\nZCR processing time: 10 s\nZDR number of lines: 15\ntotal value of ZDR document:  509.3699971139431\nZDR processing time: 21 s\n*****************************\nDistributor: 2820384\nZCR number of lines: 151\ntotal value of ZCR document:  203266.13031291962\nZCR processing time: 10 s\nZDR number of lines: 1\ntotal value of ZDR document:  4.159999847412109\nZDR processing time: 20 s\n*****************************\nDistributor: 2820389\nZCR number of lines: 194\ntotal value of ZCR document:  99101.59949040413\nZCR processing time: 11 s\nZDR number of lines: 8\ntotal value of ZDR document:  59.82000017166138\nZDR processing time: 21 s\n*****************************\nDistributor: 2820415\nZCR number of lines: 153\ntotal value of ZCR document:  58385.38994884491\nZCR processing time: 10 s\nZDR number of lines: 4\ntotal value of ZDR document:  14.570000171661377\nZDR processing time: 21 s\n*****************************\nDistributor: 3016129\nZCR number of lines: 202\ntotal value of ZCR document:  97793.41037225723\nZCR processing time: 12 s\nZDR number of lines: 2\ntotal value of ZDR document:  16.920000851154327\nZDR processing time: 25 s\n*****************************\nDistributor: 3553396\nZCR number of lines: 166\ntotal value of ZCR document:  65259.050075769424\nZCR processing time: 10 s\nZDR number of lines: 15\ntotal value of ZDR document:  208.55000143125653\nZDR processing time: 21 s\n*****************************\nDistributor: 3871381\nZCR number of lines: 196\ntotal value of ZCR document:  67241.02961683273\nZCR processing time: 10 s\nZDR number of lines: 4\ntotal value of ZDR document:  125.22000193595886\nZDR processing time: 20 s\n*****************************\nDistributor: 3910846\nZCR number of lines: 121\ntotal value of ZCR document:  14279.630016803741\nZCR processing time: 10 s\nZDR number of lines: 5\ntotal value of ZDR document:  56.399999141693115\nZDR processing time: 20 s\n*****************************\nDistributor: 3946007\nZCR number of lines: 203\ntotal value of ZCR document:  130715.69971942902\nZCR processing time: 9 s\nZDR number of lines: 4\ntotal value of ZDR document:  16.490000188350677\nZDR processing time: 19 s\n*****************************\nDistributor: 4048372\nZCR number of lines: 121\ntotal value of ZCR document:  83440.449716568\nZCR processing time: 12 s\nZDR number of lines: 1\ntotal value of ZDR document:  4.53000020980835\nZDR processing time: 22 s\n*****************************\nDistributor: 4068540\nZCR number of lines: 158\ntotal value of ZCR document:  21205.999982118607\nZCR processing time: 11 s\nZDR number of lines: 3\ntotal value of ZDR document:  42.5699999332428\nZDR processing time: 21 s\n*****************************\nDistributor: 5070229\nZCR number of lines: 231\ntotal value of ZCR document:  74299.40983343124\nZCR processing time: 10 s\nZDR number of lines: 1\ntotal value of ZDR document:  19.139999389648438\nZDR processing time: 20 s\n*****************************\nDistributor: 5268076\nZCR number of lines: 101\ntotal value of ZCR document:  20224.220053792\nZCR processing time: 12 s\nZDR number of lines: 2\n"
     ]
    },
    {
     "output_type": "display_data",
     "data": {
      "text/html": [
       "<style scoped>\n",
       "  .ansiout {\n",
       "    display: block;\n",
       "    unicode-bidi: embed;\n",
       "    white-space: pre-wrap;\n",
       "    word-wrap: break-word;\n",
       "    word-break: break-all;\n",
       "    font-family: \"Menlo\", \"Monaco\", \"Consolas\", \"Ubuntu Mono\", \"Source Code Pro\", monospace;\n",
       "    font-size: 13px;\n",
       "    color: #555;\n",
       "    margin-left: 4px;\n",
       "    line-height: 19px;\n",
       "  }\n",
       "</style>"
      ]
     },
     "metadata": {
      "application/vnd.databricks.v1+output": {
       "arguments": {},
       "data": "",
       "errorSummary": "Cancelled",
       "errorTraceType": "html",
       "metadata": {},
       "type": "ipynbError"
      }
     },
     "output_type": "display_data"
    }
   ],
   "source": [
    "total_time_start = time.time()\n",
    "column = StructType([StructField(\"merged\", StringType(), True)])\n",
    "\n",
    "for chnl in distr_chnl_list:\n",
    "  print(\"*************************************\")\n",
    "  print(\"Distribution channel\", chnl)\n",
    "\n",
    "  full_df = spark.createDataFrame([], column)\n",
    "  # first line of the template\n",
    "  first_line = spark.createDataFrame([(\"EDI_DC40\", \"  1329000000000055271\", \"620 0322  \",\"ORDERS05                      /GLB/OGTORDERS05_01           ORDERS                               LS  ILELAHUB01                                                                                                     \",\"LS                                                                                                       \")], [\"part1\", \"part2\", \"part3\", \"part4\", \"part5\"])\n",
    "  first_line = first_line.withColumn(\"part6\", rpad(lit(datetime.strftime(datetime.now(), \"%Y%m%d%H%M%s\")[:-8]), 146, \" \"))\n",
    "  #list of distributors by channel\n",
    "  mefiz_list = mekubaim.filter(col(\"Distribution_channel\")==chnl).select(\"code_mefiz\").distinct().orderBy(\"code_mefiz\").rdd.flatMap(lambda x: x).collect()\n",
    "  print(\"List of distributors in Dist chnl \", chnl, mefiz_list)\n",
    "  for code in mefiz_list:\n",
    "    time_start = time.time()\n",
    "\n",
    "    print(\"*****************************\")\n",
    "    print(\"Distributor:\", code)\n",
    "    material = mekubaim.filter(col(\"CODE_MEFIZ\")==code)  \n",
    "    \n",
    "    header_df_zdr = type_header(\"ZDR\", \"mekubaim\", rec_month, rec_year)\n",
    "    header_df_zcr = type_header(\"ZCR\", \"mekubaim\", rec_month, rec_year)\n",
    "    \n",
    "    for ttype in trans_type:      # ZDR, ZCR\n",
    "      material_df = transform_df_to_type(material, ttype, \"mekubaim\") # creation of specific dataset for each type of transaction\n",
    "      print(ttype,\"number of lines:\", material_df.count())\n",
    "      if material_df.count()>0:        \n",
    "        main = material_lines(material_df, code)\n",
    "        if ttype==\"ZDR\":\n",
    "          header = header_df_zdr.filter(col(\"CODE_MEFIZ\")==code).drop(\"code_mefiz\", \"distribution_channel\", \"sort_order\")\n",
    "        else:\n",
    "          header = header_df_zcr.filter(col(\"CODE_MEFIZ\")==code).drop(\"code_mefiz\", \"distribution_channel\", \"sort_order\")\n",
    "\n",
    "        end_number = main.select(max(\"row_number\")).collect()[0][0]\n",
    "        last_line = spark.createDataFrame([(\"E2EDS01   \", \"                    1329000000000055271\", \"00000001\", \"                           \", \"\")], [\"part1\", \"part2\",  \"part4\", \"part5\", \"part6\"]).withColumn(\"part3\", lpad(lit(end_number)+20,6,\"0\"))\n",
    "\n",
    "        final_df = first_line.union(header).union(main.drop(\"row_number\")).union(last_line.select(\"part1\", \"part2\", \"part3\", \"part4\", \"part5\", \"part6\"))\n",
    "        final_df = final_df.withColumn(\"merged\", (concat_ws(\"\", *final_df.columns)))\n",
    "        total_value = main.select(sum(trim(\"part6\").astype('float'))).collect()[0][0]\n",
    "        print(f\"total value of {ttype} document:  {total_value}\")\n",
    "        full_df=full_df.union(final_df.select(\"merged\"))\n",
    "        time_end = time.time()\n",
    "        print(code, \"processing time:\", int(time_end-time_start), 's')\n",
    "        \n",
    "      else:\n",
    "        print(f\"No lines for {ttype} for distributor {code}\")\n",
    "  full_df_string = full_df.select(\"merged\").collect()\n",
    "  if chnl == '06':\n",
    "    file_06_name = datetime.strftime(datetime.now(), \"%Y%m%d_%H%M%s\")[:-8]\n",
    "    count_06 = full_df.count()\n",
    "    csv_string_06 = '\\n'.join(row['merged'] for row in full_df_string)   \n",
    "  else:\n",
    "    file_08_name = datetime.strftime(datetime.now(), \"%Y%m%d_%H%M%s\")[:-8]\n",
    "    count_08 = full_df.count()\n",
    "    csv_string_08 = '\\n'.join(row['merged'] for row in full_df_string)   \n",
    "total_time_end = time.time()\n",
    "print(\"the job took \", int((total_time_end - total_time_start)/60), \"mins\")      \n",
    "\n"
   ]
  },
  {
   "cell_type": "code",
   "execution_count": 0,
   "metadata": {
    "application/vnd.databricks.v1+cell": {
     "cellMetadata": {
      "byteLimit": 2048000,
      "rowLimit": 10000
     },
     "inputWidgets": {},
     "nuid": "21ea5fee-ef54-44c1-8c46-a6ce05f420e1",
     "showTitle": false,
     "tableResultSettingsMap": {},
     "title": ""
    }
   },
   "outputs": [
    {
     "output_type": "display_data",
     "data": {
      "text/html": [
       "<style scoped>\n",
       "  .ansiout {\n",
       "    display: block;\n",
       "    unicode-bidi: embed;\n",
       "    white-space: pre-wrap;\n",
       "    word-wrap: break-word;\n",
       "    word-break: break-all;\n",
       "    font-family: \"Menlo\", \"Monaco\", \"Consolas\", \"Ubuntu Mono\", \"Source Code Pro\", monospace;\n",
       "    font-size: 13px;\n",
       "    color: #555;\n",
       "    margin-left: 4px;\n",
       "    line-height: 19px;\n",
       "  }\n",
       "</style>"
      ]
     },
     "metadata": {
      "application/vnd.databricks.v1+output": {
       "arguments": {},
       "data": "",
       "errorSummary": "Command skipped",
       "errorTraceType": "html",
       "metadata": {},
       "type": "ipynbError"
      }
     },
     "output_type": "display_data"
    }
   ],
   "source": [
    "display(csv_string_06)"
   ]
  },
  {
   "cell_type": "code",
   "execution_count": 0,
   "metadata": {
    "application/vnd.databricks.v1+cell": {
     "cellMetadata": {
      "byteLimit": 2048000,
      "rowLimit": 10000
     },
     "inputWidgets": {},
     "nuid": "2b9159b2-e457-49f6-9abb-5bb0393fdd56",
     "showTitle": false,
     "tableResultSettingsMap": {},
     "title": ""
    }
   },
   "outputs": [
    {
     "output_type": "display_data",
     "data": {
      "text/html": [
       "<style scoped>\n",
       "  .ansiout {\n",
       "    display: block;\n",
       "    unicode-bidi: embed;\n",
       "    white-space: pre-wrap;\n",
       "    word-wrap: break-word;\n",
       "    word-break: break-all;\n",
       "    font-family: \"Menlo\", \"Monaco\", \"Consolas\", \"Ubuntu Mono\", \"Source Code Pro\", monospace;\n",
       "    font-size: 13px;\n",
       "    color: #555;\n",
       "    margin-left: 4px;\n",
       "    line-height: 19px;\n",
       "  }\n",
       "</style>"
      ]
     },
     "metadata": {
      "application/vnd.databricks.v1+output": {
       "arguments": {},
       "data": "",
       "errorSummary": "Command skipped",
       "errorTraceType": "html",
       "metadata": {},
       "type": "ipynbError"
      }
     },
     "output_type": "display_data"
    }
   ],
   "source": [
    "# dist channel = 6\n",
    "print('file name:', file_06_name)\n",
    "print('total length of dataset:', count_06)\n",
    "dbutils.fs.put(output_location+file_06_name, csv_string_06)"
   ]
  },
  {
   "cell_type": "code",
   "execution_count": 0,
   "metadata": {
    "application/vnd.databricks.v1+cell": {
     "cellMetadata": {
      "byteLimit": 2048000,
      "rowLimit": 10000
     },
     "inputWidgets": {},
     "nuid": "ed3ac1d1-dff9-49b2-8a9e-f8c56b55100f",
     "showTitle": false,
     "tableResultSettingsMap": {},
     "title": ""
    }
   },
   "outputs": [
    {
     "output_type": "display_data",
     "data": {
      "text/html": [
       "<style scoped>\n",
       "  .ansiout {\n",
       "    display: block;\n",
       "    unicode-bidi: embed;\n",
       "    white-space: pre-wrap;\n",
       "    word-wrap: break-word;\n",
       "    word-break: break-all;\n",
       "    font-family: \"Menlo\", \"Monaco\", \"Consolas\", \"Ubuntu Mono\", \"Source Code Pro\", monospace;\n",
       "    font-size: 13px;\n",
       "    color: #555;\n",
       "    margin-left: 4px;\n",
       "    line-height: 19px;\n",
       "  }\n",
       "</style>"
      ]
     },
     "metadata": {
      "application/vnd.databricks.v1+output": {
       "arguments": {},
       "data": "",
       "errorSummary": "Command skipped",
       "errorTraceType": "html",
       "metadata": {},
       "type": "ipynbError"
      }
     },
     "output_type": "display_data"
    }
   ],
   "source": [
    "display(csv_string_08)"
   ]
  },
  {
   "cell_type": "code",
   "execution_count": 0,
   "metadata": {
    "application/vnd.databricks.v1+cell": {
     "cellMetadata": {
      "byteLimit": 2048000,
      "rowLimit": 10000
     },
     "inputWidgets": {},
     "nuid": "00f58c3a-72bb-4ae0-93ff-c15bd9608d52",
     "showTitle": false,
     "tableResultSettingsMap": {},
     "title": ""
    }
   },
   "outputs": [
    {
     "output_type": "display_data",
     "data": {
      "text/html": [
       "<style scoped>\n",
       "  .ansiout {\n",
       "    display: block;\n",
       "    unicode-bidi: embed;\n",
       "    white-space: pre-wrap;\n",
       "    word-wrap: break-word;\n",
       "    word-break: break-all;\n",
       "    font-family: \"Menlo\", \"Monaco\", \"Consolas\", \"Ubuntu Mono\", \"Source Code Pro\", monospace;\n",
       "    font-size: 13px;\n",
       "    color: #555;\n",
       "    margin-left: 4px;\n",
       "    line-height: 19px;\n",
       "  }\n",
       "</style>"
      ]
     },
     "metadata": {
      "application/vnd.databricks.v1+output": {
       "arguments": {},
       "data": "",
       "errorSummary": "Command skipped",
       "errorTraceType": "html",
       "metadata": {},
       "type": "ipynbError"
      }
     },
     "output_type": "display_data"
    }
   ],
   "source": [
    "# dist channel = 8\n",
    "print('file name:', file_08_name)\n",
    "print('total length of dataset:', count_08)\n",
    "dbutils.fs.put(output_location+file_08_name, csv_string_08)"
   ]
  },
  {
   "cell_type": "markdown",
   "metadata": {
    "application/vnd.databricks.v1+cell": {
     "cellMetadata": {
      "byteLimit": 2048000,
      "rowLimit": 10000
     },
     "inputWidgets": {},
     "nuid": "c9861139-1887-4a94-aa4c-e12d2ea5b293",
     "showTitle": false,
     "tableResultSettingsMap": {},
     "title": ""
    }
   },
   "source": [
    "##Returns"
   ]
  },
  {
   "cell_type": "code",
   "execution_count": 0,
   "metadata": {
    "application/vnd.databricks.v1+cell": {
     "cellMetadata": {
      "byteLimit": 2048000,
      "implicitDf": true,
      "rowLimit": 10000
     },
     "inputWidgets": {},
     "nuid": "c6cd057d-faef-4f39-bc2f-7efb3ca57c2a",
     "showTitle": false,
     "tableResultSettingsMap": {},
     "title": ""
    }
   },
   "outputs": [
    {
     "output_type": "display_data",
     "data": {
      "text/html": [
       "<style scoped>\n",
       "  .ansiout {\n",
       "    display: block;\n",
       "    unicode-bidi: embed;\n",
       "    white-space: pre-wrap;\n",
       "    word-wrap: break-word;\n",
       "    word-break: break-all;\n",
       "    font-family: \"Menlo\", \"Monaco\", \"Consolas\", \"Ubuntu Mono\", \"Source Code Pro\", monospace;\n",
       "    font-size: 13px;\n",
       "    color: #555;\n",
       "    margin-left: 4px;\n",
       "    line-height: 19px;\n",
       "  }\n",
       "</style>"
      ]
     },
     "metadata": {
      "application/vnd.databricks.v1+output": {
       "arguments": {},
       "data": "",
       "errorSummary": "Command skipped",
       "errorTraceType": "html",
       "metadata": {},
       "type": "ipynbError"
      }
     },
     "output_type": "display_data"
    }
   ],
   "source": [
    "hechzer_stmt = f'''\n",
    "select \n",
    "CODE_MEFIZ,\n",
    "Item_Num,\n",
    "round(sum(Discount),2) as value\n",
    " from ds_database.total_monthly\n",
    " join (select distinct payer_desc, payer from bo_interfaces.g_clients) g_clients on g_clients.payer = total_monthly.code_mefiz\n",
    "where rec_year = {rec_year}\n",
    "and rec_month = {rec_month}\n",
    "---and code_mefiz = 2819344\n",
    "group by code_mefiz, Item_Num\n",
    "having round(sum(Discount),0) <> 0\n",
    "order by code_mefiz, cast(Item_Num as int)'''\n",
    "hechzer = spark.sql(hechzer_stmt)\n",
    "display(hechzer)"
   ]
  },
  {
   "cell_type": "code",
   "execution_count": 0,
   "metadata": {
    "application/vnd.databricks.v1+cell": {
     "cellMetadata": {
      "byteLimit": 2048000,
      "rowLimit": 10000
     },
     "inputWidgets": {},
     "nuid": "dbe33c56-0bd5-4d0e-aa4e-924407840653",
     "showTitle": false,
     "tableResultSettingsMap": {},
     "title": ""
    }
   },
   "outputs": [
    {
     "output_type": "display_data",
     "data": {
      "text/html": [
       "<style scoped>\n",
       "  .ansiout {\n",
       "    display: block;\n",
       "    unicode-bidi: embed;\n",
       "    white-space: pre-wrap;\n",
       "    word-wrap: break-word;\n",
       "    word-break: break-all;\n",
       "    font-family: \"Menlo\", \"Monaco\", \"Consolas\", \"Ubuntu Mono\", \"Source Code Pro\", monospace;\n",
       "    font-size: 13px;\n",
       "    color: #555;\n",
       "    margin-left: 4px;\n",
       "    line-height: 19px;\n",
       "  }\n",
       "</style>"
      ]
     },
     "metadata": {
      "application/vnd.databricks.v1+output": {
       "arguments": {},
       "data": "",
       "errorSummary": "Command skipped",
       "errorTraceType": "html",
       "metadata": {},
       "type": "ipynbError"
      }
     },
     "output_type": "display_data"
    }
   ],
   "source": [
    "total_time_start = time.time()\n",
    "column = StructType([StructField(\"merged\", StringType(), True)])\n",
    "full_df = spark.createDataFrame([], column)\n",
    "# list of distributors : all distributors with discount>0\n",
    "mefiz_list = hechzer.select(\"code_mefiz\").distinct().orderBy(\"code_mefiz\").rdd.flatMap(lambda x: x).collect()\n",
    "print(\"List of distributors\", mefiz_list)\n",
    "\n",
    "for code in mefiz_list:     # generating data per distributor\n",
    "  time_start = time.time()\n",
    "\n",
    "  print(\"********************************\")\n",
    "  print(\"Distributor:\", code)\n",
    "  \n",
    "  material = hechzer.filter(col(\"CODE_MEFIZ\")==code)  \n",
    "\n",
    "  header_df_zdr = type_header(\"ZDR\", \"hechzer\", rec_month, rec_year)\n",
    "  header_df_zcr = type_header(\"ZCR\", \"hechzer\", rec_month, rec_year)\n",
    "  \n",
    "  for ttype in trans_type:      \n",
    "    material_df = transform_df_to_type(material, ttype, \"hechzer\")\n",
    "    print(ttype,\"number of lines:\", material_df.count())\n",
    "    if material_df.count()>0:        \n",
    "      main = material_lines(material_df, code)\n",
    "      if ttype==\"ZDR\":\n",
    "        header = header_df_zdr.filter(col(\"CODE_MEFIZ\")==code).drop(\"code_mefiz\", \"sort_order\")\n",
    "      else:\n",
    "        header = header_df_zcr.filter(col(\"CODE_MEFIZ\")==code).drop(\"code_mefiz\", \"sort_order\")  \n",
    "      end_number = main.select(max(\"row_number\")).collect()[0][0]\n",
    "      last_line = spark.createDataFrame([(\"E2EDS01   \", \"                    1329000000000055271\", \"00000001\", \"                           \", \"\")], [\"part1\", \"part2\",  \"part4\", \"part5\", \"part6\"]).withColumn(\"part3\", lpad(lit(end_number)+20,6,\"0\"))\n",
    "\n",
    "      final_df = first_line.union(header.drop(\"Distribution_channel\")).union(main.drop(\"row_number\")).union(last_line.select(\"part1\", \"part2\", \"part3\", \"part4\", \"part5\", \"part6\"))\n",
    "      final_df = final_df.withColumn(\"merged\", (concat_ws(\"\", *final_df.columns)))\n",
    "      total_value = main.select(sum(trim(\"part6\").astype('float'))).collect()[0][0]\n",
    "      print(f\"  Total value of {ttype}: {total_value}\")\n",
    "      full_df=full_df.union(final_df.select(\"merged\"))\n",
    "  time_end = time.time()\n",
    "  print(\" processing time:\", int(time_end-time_start), \"seconds\")\n",
    "total_time_end = time.time()\n",
    "print(\"the job took \", int((total_time_end - total_time_start)/60), \"mins\")      \n",
    "\n"
   ]
  },
  {
   "cell_type": "code",
   "execution_count": 0,
   "metadata": {
    "application/vnd.databricks.v1+cell": {
     "cellMetadata": {
      "byteLimit": 2048000,
      "rowLimit": 10000
     },
     "inputWidgets": {},
     "nuid": "421f55a8-ed3f-4840-a545-8e9b507681fa",
     "showTitle": false,
     "tableResultSettingsMap": {},
     "title": ""
    }
   },
   "outputs": [
    {
     "output_type": "display_data",
     "data": {
      "text/html": [
       "<style scoped>\n",
       "  .ansiout {\n",
       "    display: block;\n",
       "    unicode-bidi: embed;\n",
       "    white-space: pre-wrap;\n",
       "    word-wrap: break-word;\n",
       "    word-break: break-all;\n",
       "    font-family: \"Menlo\", \"Monaco\", \"Consolas\", \"Ubuntu Mono\", \"Source Code Pro\", monospace;\n",
       "    font-size: 13px;\n",
       "    color: #555;\n",
       "    margin-left: 4px;\n",
       "    line-height: 19px;\n",
       "  }\n",
       "</style>"
      ]
     },
     "metadata": {
      "application/vnd.databricks.v1+output": {
       "arguments": {},
       "data": "",
       "errorSummary": "Command skipped",
       "errorTraceType": "html",
       "metadata": {},
       "type": "ipynbError"
      }
     },
     "output_type": "display_data"
    }
   ],
   "source": [
    "display(full_df)"
   ]
  },
  {
   "cell_type": "code",
   "execution_count": 0,
   "metadata": {
    "application/vnd.databricks.v1+cell": {
     "cellMetadata": {
      "byteLimit": 2048000,
      "rowLimit": 10000
     },
     "inputWidgets": {},
     "nuid": "e8e4d824-7515-4e82-a11d-ce08543df942",
     "showTitle": false,
     "tableResultSettingsMap": {},
     "title": ""
    }
   },
   "outputs": [
    {
     "output_type": "display_data",
     "data": {
      "text/html": [
       "<style scoped>\n",
       "  .ansiout {\n",
       "    display: block;\n",
       "    unicode-bidi: embed;\n",
       "    white-space: pre-wrap;\n",
       "    word-wrap: break-word;\n",
       "    word-break: break-all;\n",
       "    font-family: \"Menlo\", \"Monaco\", \"Consolas\", \"Ubuntu Mono\", \"Source Code Pro\", monospace;\n",
       "    font-size: 13px;\n",
       "    color: #555;\n",
       "    margin-left: 4px;\n",
       "    line-height: 19px;\n",
       "  }\n",
       "</style>"
      ]
     },
     "metadata": {
      "application/vnd.databricks.v1+output": {
       "arguments": {},
       "data": "",
       "errorSummary": "Command skipped",
       "errorTraceType": "html",
       "metadata": {},
       "type": "ipynbError"
      }
     },
     "output_type": "display_data"
    }
   ],
   "source": [
    "dbutils.fs.put(output_location+datetime.now().strftime(\"%Y%m%d_%H%m%s\")[:-8], full_df.to_koalas().to_csv(header=False), True)"
   ]
  },
  {
   "cell_type": "code",
   "execution_count": 0,
   "metadata": {
    "application/vnd.databricks.v1+cell": {
     "cellMetadata": {
      "byteLimit": 2048000,
      "rowLimit": 10000
     },
     "inputWidgets": {},
     "nuid": "532cc4a6-5606-45f7-ba2c-19b6a292f057",
     "showTitle": false,
     "tableResultSettingsMap": {},
     "title": ""
    }
   },
   "outputs": [
    {
     "output_type": "display_data",
     "data": {
      "text/html": [
       "<style scoped>\n",
       "  .ansiout {\n",
       "    display: block;\n",
       "    unicode-bidi: embed;\n",
       "    white-space: pre-wrap;\n",
       "    word-wrap: break-word;\n",
       "    word-break: break-all;\n",
       "    font-family: \"Menlo\", \"Monaco\", \"Consolas\", \"Ubuntu Mono\", \"Source Code Pro\", monospace;\n",
       "    font-size: 13px;\n",
       "    color: #555;\n",
       "    margin-left: 4px;\n",
       "    line-height: 19px;\n",
       "  }\n",
       "</style>"
      ]
     },
     "metadata": {
      "application/vnd.databricks.v1+output": {
       "arguments": {},
       "data": "",
       "errorSummary": "Command skipped",
       "errorTraceType": "html",
       "metadata": {},
       "type": "ipynbError"
      }
     },
     "output_type": "display_data"
    }
   ],
   "source": [
    "dbutils.notebook.exit(\"Bye!\")"
   ]
  },
  {
   "cell_type": "markdown",
   "metadata": {
    "application/vnd.databricks.v1+cell": {
     "cellMetadata": {
      "byteLimit": 2048000,
      "rowLimit": 10000
     },
     "inputWidgets": {},
     "nuid": "7b1591f2-8ed7-4e11-8fac-19a361aaa96b",
     "showTitle": false,
     "tableResultSettingsMap": {},
     "title": ""
    }
   },
   "source": [
    "# END"
   ]
  },
  {
   "cell_type": "code",
   "execution_count": 0,
   "metadata": {
    "application/vnd.databricks.v1+cell": {
     "cellMetadata": {
      "byteLimit": 2048000,
      "rowLimit": 10000
     },
     "inputWidgets": {},
     "nuid": "ad92ef89-d864-4dda-a18d-bd076af9276d",
     "showTitle": false,
     "tableResultSettingsMap": {},
     "title": ""
    }
   },
   "outputs": [
    {
     "output_type": "display_data",
     "data": {
      "text/html": [
       "<style scoped>\n",
       "  .ansiout {\n",
       "    display: block;\n",
       "    unicode-bidi: embed;\n",
       "    white-space: pre-wrap;\n",
       "    word-wrap: break-word;\n",
       "    word-break: break-all;\n",
       "    font-family: \"Menlo\", \"Monaco\", \"Consolas\", \"Ubuntu Mono\", \"Source Code Pro\", monospace;\n",
       "    font-size: 13px;\n",
       "    color: #555;\n",
       "    margin-left: 4px;\n",
       "    line-height: 19px;\n",
       "  }\n",
       "</style>"
      ]
     },
     "metadata": {
      "application/vnd.databricks.v1+output": {
       "arguments": {},
       "data": "",
       "errorSummary": "Command skipped",
       "errorTraceType": "html",
       "metadata": {},
       "type": "ipynbError"
      }
     },
     "output_type": "display_data"
    }
   ],
   "source": [
    "# test החזרות\n",
    "rec_year  = 2024\n",
    "rec_month = 12\n",
    "total_time_start = time.time()\n",
    "column = StructType([StructField(\"merged\", StringType(), True)])\n",
    "full_df = spark.createDataFrame([], column)\n",
    "# list of distributors : all distributors with discount>0\n",
    "mefiz_list = ['2820355']\n",
    "print(\"List of distributors\", mefiz_list)\n",
    "\n",
    "for code in mefiz_list:     # generating data per distributor\n",
    "  time_start = time.time()\n",
    "\n",
    "  print(\"********************************\")\n",
    "  print(\"Distributor:\", code)\n",
    "  \n",
    "  material = hechzer.filter(col(\"CODE_MEFIZ\")==code)  \n",
    "\n",
    "  header_df_zdr = type_header(\"ZDR\", \"hechzer\", rec_month, rec_year)\n",
    "  header_df_zcr = type_header(\"ZCR\", \"hechzer\", rec_month, rec_year)\n",
    "  \n",
    "  for ttype in trans_type:      \n",
    "    material_df = transform_df_to_type(material, ttype, \"hechzer\")\n",
    "    print(ttype,\"number of lines:\", material_df.count())\n",
    "    if material_df.count()>0:        \n",
    "      main = material_lines(material_df, code)\n",
    "      if ttype==\"ZDR\":\n",
    "        header = header_df_zdr.filter(col(\"CODE_MEFIZ\")==code).drop(\"code_mefiz\", \"sort_order\")\n",
    "      else:\n",
    "        header = header_df_zcr.filter(col(\"CODE_MEFIZ\")==code).drop(\"code_mefiz\", \"sort_order\")  \n",
    "      end_number = main.select(max(\"row_number\")).collect()[0][0]\n",
    "      last_line = spark.createDataFrame([(\"E2EDS01   \", \"                    1329000000000055271\", \"00000001\", \"                           \", \"\")], [\"part1\", \"part2\",  \"part4\", \"part5\", \"part6\"]).withColumn(\"part3\", lpad(lit(end_number)+20,6,\"0\"))\n",
    "      first_line = spark.createDataFrame([(\"EDI_DC40\", \"  1329000000000055271\", \"620 0322  \",\"ORDERS05                      /GLB/OGTORDERS05_01           ORDERS                               LS  ILELAHUB01                                                                                                     \",\"LS                                                                                                       \")], [\"part1\", \"part2\", \"part3\", \"part4\", \"part5\"])\n",
    "      first_line = first_line.withColumn(\"part6\", rpad(lit(datetime.strftime(datetime.now(), \"%Y%m%d%H%M%s\")[:-8]), 146, \" \"))\n",
    "      final_df = first_line.union(header.drop(\"Distribution_channel\")).union(main.drop(\"row_number\")).union(last_line.select(\"part1\", \"part2\", \"part3\", \"part4\", \"part5\", \"part6\"))\n",
    "      final_df = final_df.withColumn(\"merged\", (concat_ws(\"\", *final_df.columns)))\n",
    "      total_value = main.select(sum(trim(\"part6\").astype('float'))).collect()[0][0]\n",
    "      print(f\"  Total value of {ttype}: {total_value}\")\n",
    "      full_df=full_df.union(final_df.select(\"merged\"))\n",
    "  time_end = time.time()\n",
    "  print(\" processing time:\", int(time_end-time_start), \"seconds\")\n",
    "total_time_end = time.time()\n",
    "print(\"the job took \", int((total_time_end - total_time_start)/60), \"mins\")      \n",
    "\n"
   ]
  },
  {
   "cell_type": "code",
   "execution_count": 0,
   "metadata": {
    "application/vnd.databricks.v1+cell": {
     "cellMetadata": {
      "byteLimit": 2048000,
      "implicitDf": true,
      "rowLimit": 10000
     },
     "inputWidgets": {},
     "nuid": "5f818455-4903-48f4-9e8a-5e8e44f8fcf4",
     "showTitle": false,
     "tableResultSettingsMap": {},
     "title": ""
    }
   },
   "outputs": [
    {
     "output_type": "display_data",
     "data": {
      "text/html": [
       "<style scoped>\n",
       "  .ansiout {\n",
       "    display: block;\n",
       "    unicode-bidi: embed;\n",
       "    white-space: pre-wrap;\n",
       "    word-wrap: break-word;\n",
       "    word-break: break-all;\n",
       "    font-family: \"Menlo\", \"Monaco\", \"Consolas\", \"Ubuntu Mono\", \"Source Code Pro\", monospace;\n",
       "    font-size: 13px;\n",
       "    color: #555;\n",
       "    margin-left: 4px;\n",
       "    line-height: 19px;\n",
       "  }\n",
       "</style>"
      ]
     },
     "metadata": {
      "application/vnd.databricks.v1+output": {
       "arguments": {},
       "data": "",
       "errorSummary": "Command skipped",
       "errorTraceType": "html",
       "metadata": {},
       "type": "ipynbError"
      }
     },
     "output_type": "display_data"
    }
   ],
   "source": [
    "%sql\n",
    "select * from ds_database.total_monthly\n",
    "where rec_month =12\n",
    "and rec_year = 2024\n",
    "and code_mefiz = 2820355"
   ]
  },
  {
   "cell_type": "code",
   "execution_count": 0,
   "metadata": {
    "application/vnd.databricks.v1+cell": {
     "cellMetadata": {
      "byteLimit": 2048000,
      "rowLimit": 10000
     },
     "inputWidgets": {},
     "nuid": "7844fae0-a61d-4ff6-9837-1c308c956b4d",
     "showTitle": false,
     "tableResultSettingsMap": {},
     "title": ""
    }
   },
   "outputs": [],
   "source": []
  }
 ],
 "metadata": {
  "application/vnd.databricks.v1+notebook": {
   "computePreferences": null,
   "dashboards": [],
   "environmentMetadata": {
    "base_environment": "",
    "environment_version": "1"
   },
   "language": "python",
   "notebookMetadata": {
    "mostRecentlyExecutedCommandWithImplicitDF": {
     "commandId": 6049694014515118,
     "dataframes": [
      "_sqldf"
     ]
    },
    "pythonIndentUnit": 2
   },
   "notebookName": "906 - ZCR monthly process",
   "widgets": {}
  },
  "language_info": {
   "name": "python"
  }
 },
 "nbformat": 4,
 "nbformat_minor": 0
}
