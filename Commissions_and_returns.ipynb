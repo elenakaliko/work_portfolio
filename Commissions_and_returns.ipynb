{
 "cells": [
  {
   "cell_type": "markdown",
   "metadata": {
    "application/vnd.databricks.v1+cell": {
     "cellMetadata": {
      "byteLimit": 2048000,
      "rowLimit": 10000
     },
     "inputWidgets": {},
     "nuid": "8edc12f7-1196-4fa4-a7ac-60d1e9d41cf4",
     "showTitle": false,
     "tableResultSettingsMap": {},
     "title": ""
    },
    "jupyter": {
     "outputs_hidden": true
    }
   },
   "source": [
    "## Mefizim Commission\n",
    "### Business process\n",
    "1. Customers of type \"Distributor\" are the Osem customers that purchase the product of Osem (distribution channel 06, 08) and sell the product to end customer which can be or not be a direct Osem customer. \n",
    "2. Distributor can purchase and deliver the product to their own stock or just be a mediator with no real stock on their side. If the latter, the customer of Osem is the distributor but the delivery is performed to address of end customer.\n",
    "3. For each purchase, no matter what customer type it is, distributor is supposed to get a commission and a discount (return). The payment of commission and discounts is monthly with the reference to the performance of previous month. The commission % depends on the customer type, cluster (customer group), type of product (Product Hierarchy).\n",
    "<br>\n",
    "### Inbound data \n",
    "* SAP represented by DB tables: `sap_extraction_prod.vbrk` / `vbrp` (invoices headers / invoices details), `mirror_snowflake.dev_mdh_knvp_v` (details about customers), `sap_extraction_prod.knvv` (details about customers), `sap_extraction_prod.bkpf` (billing documents)\n",
    "* Pocketlink represented by DB tables `chp.sales_extract` (sales to distributor customers), `bo_interfaces.g_clients` (repository of customers in pocketlink) <br>\n",
    "### Details of the process\n",
    "<br> **Types of data:**\n",
    "Direct sales (GD): Sales to all the direct customers of Osem that are operated by Sales Employee of Mefiz. <br>\n",
    "Distributor sales (HI): sales of the distributor to his end customers / Osem customers (= Total sales of all distributors sales employees) <br>\n",
    "Stock (GP+GB+HB): Remaining stock by the end of month. Calculated as Gross purchase of the distributor (GP) excluding B2B purchase (GB) and minus all distributor sales within the month (HB).  \n",
    "<br>\n",
    "**Transformation steps:**\n",
    "1. Create auxiliary tables:\n",
    "* vw_dist_customer - list of distributors with correspondant sales employee, customer number, payer number. Key fields: code_mefiz + sales_employee + customer + payer (unique)\n",
    "* vw_company_customer - only direct customers (type GD) for each distributor. Columns Code_mefiz, Payer, Customer, CCompany, chnl, sales_employee_code refer to the distributor; columns Direct_customer, Direct_cust_payer, DC_chnl refer to the direct customer of distributor. The relation comes from the sales employee of the distributor which makes of the profile of the distributor and the direct customers as well. Key fields: code_mefiz + payer + customer + sales_emplyee + Direct_customer + Direct_cust_payer\n",
    "* vw_customer_group - customer groups that come from different sources: crm_table for distribution channel 06 and g_clients table for distribution channel 08. Key field: customer, payer\n",
    "2. Create tables for each type of data:\n",
    "* GP: Gross Purchase from VBRK / VBRP - only transactions (purchase, returns) with type F2, S2, RE  for distributors from vw_dist_customer (list of distributors)\n",
    "* GB: Gross B2B from VBRK/VBRP - only transactions (purchase, returns) with type ZL2Q and ZG2Q (debit distributor and credit customer or debit customer and credit distributor), transaction customer/payer is distributor themself.\n",
    "* GD: Gross Direct customer sales from VBRK/VBRP - transactions (purchase, returns) of all types that are performed by direct customers of OSEM (vw_company_customer list)\n",
    "* HI: Distributor sales from Pocketlink (chp.sales_extract) - sales & returns + mekubaim + discounts of the distributor to their end clients (including sales w/o involving distributor's warehouses)  \n",
    "* HB: Sales from Pocketlink (chp.sales_extract) - sales & returns as a credit to Osem company <br>\n",
    "Validity period: from the last day of previous month till today.\n",
    "3. Aggregate all the data types into one dataset `total_monthly` and add calculated columns *Discount*, *Commission* based on the tables with percents: `bo_interfaces.bg_percents_2024`, `bo_interfaces.ia_percents_2024`\n",
    "4. Merge (Insert) data into the table with historical data."
   ]
  },
  {
   "cell_type": "code",
   "execution_count": 0,
   "metadata": {
    "application/vnd.databricks.v1+cell": {
     "cellMetadata": {
      "byteLimit": 2048000,
      "rowLimit": 10000
     },
     "inputWidgets": {},
     "nuid": "fa63673d-6161-406d-9cb9-edb0ea236ecb",
     "showTitle": false,
     "tableResultSettingsMap": {},
     "title": ""
    }
   },
   "outputs": [],
   "source": [
    "%python\n",
    "from datetime import datetime, timedelta"
   ]
  },
  {
   "cell_type": "code",
   "execution_count": 0,
   "metadata": {
    "application/vnd.databricks.v1+cell": {
     "cellMetadata": {
      "byteLimit": 2048000,
      "rowLimit": 10000
     },
     "inputWidgets": {},
     "nuid": "e27392d2-74aa-4264-aaa5-c7f83eaaeb2e",
     "showTitle": false,
     "tableResultSettingsMap": {},
     "title": ""
    }
   },
   "outputs": [],
   "source": [
    "%python\n",
    "db_name = 'ds_database'\n",
    "\n",
    "start_date = (datetime.now().replace(day =1) + timedelta(days = -1)).strftime(\"%Y-%m-%d\") # the last day of past month\n",
    "end_date = datetime.now().strftime(\"%Y-%m-%d\")"
   ]
  },
  {
   "cell_type": "code",
   "execution_count": 0,
   "metadata": {
    "application/vnd.databricks.v1+cell": {
     "cellMetadata": {
      "byteLimit": 2048000,
      "rowLimit": 10000
     },
     "inputWidgets": {},
     "nuid": "f2f28307-99b2-47c1-b232-0a2ab0b3f2bb",
     "showTitle": false,
     "tableResultSettingsMap": {},
     "title": ""
    }
   },
   "outputs": [],
   "source": [
    "%python\n",
    "print(f\"Generating data from {start_date} to {end_date}\")"
   ]
  },
  {
   "cell_type": "markdown",
   "metadata": {
    "application/vnd.databricks.v1+cell": {
     "cellMetadata": {
      "byteLimit": 2048000,
      "rowLimit": 10000
     },
     "inputWidgets": {},
     "nuid": "0bed9045-8bae-4018-a79b-a74de34d86ad",
     "showTitle": false,
     "tableResultSettingsMap": {},
     "title": ""
    }
   },
   "source": [
    "### vw_dist_customer\n",
    "Table with all distributors and their sales employees. <br>\n",
    "Distributor (mefiz): \"11\" in KUKLA; sales employee role: \"ZM\"; payer: \"RG\". <br>\n",
    "<br>\n",
    "Master Data issue for 6052618 (Haim Cohen): unique sales employee for 2 customers; need to set a specific sales employee 11072471 to 6213363 (Natali Cohen). In order to temporary solve the issue, hard coded the change in the table. <br>\n",
    "<br>\n",
    "5450846: L91 is not taken into account <br>\n",
    "\n",
    "7331041 / 6581019 (Natan Atiya): transition from 6581019 to 7331041 in January'25"
   ]
  },
  {
   "cell_type": "code",
   "execution_count": 0,
   "metadata": {
    "application/vnd.databricks.v1+cell": {
     "cellMetadata": {
      "byteLimit": 2048000,
      "rowLimit": 10000
     },
     "inputWidgets": {},
     "nuid": "d85efd62-e43f-4a2e-8e52-22917b8b4ec8",
     "showTitle": false,
     "tableResultSettingsMap": {},
     "title": ""
    }
   },
   "outputs": [],
   "source": [
    "%python\n",
    "dist_customer = f'''\n",
    "create or replace view {db_name}.vw_dist_customer as\n",
    "  select \n",
    "case when customer_number = 7334041 then 6581019 else cast(kunrg as int) end as Code_mefiz, --- temporary replacement of 7334041 within the transition period\n",
    "Distribution_Channel as chnl, \n",
    "Sales_Organization as CCompany,\n",
    "case when customer_number = 6213363 then 11072471\n",
    "when customer_number = 5566988 then 10862331\n",
    "else NVL(cast(split(`ZM_-_Sales_person`, \" - \")[0] as int),g_clients.sales_employee_code) end as sales_employee_code,\n",
    "NVL(split(`ZM_-_Sales_person`, \" - \")[1],g_clients.sales_employee_desc) as sales_employee_desc,\n",
    "customer_number as Customer,\n",
    "case when customer_number = 7334041 then 6581019 else split(`RG_-_Payer`, \" - \")[0] end as payer,\n",
    "case when customer_number in (7334041, 6581019) then \"Natan Atiya\" else split(`RG_-_Payer`, \" - \")[1] end as payer_desc,\n",
    "g_clients.payer_desc as payer_desc_eng\n",
    "  from stage_dimensions.vw_dim_clients\n",
    "join (select distinct kunag, kunrg, vtweg, vkorg from sap_extraction_prod.vbrk where TO_DATE(ERDAT, 'yyyyMMdd')>= '{start_date}') vbrk on vbrk.kunag = vw_dim_clients.customer_number and Distribution_Channel = vbrk.vtweg and Sales_Organization ='IL20' and cast(split(`RG_-_Payer`, \" - \")[0] as int) = cast(kunrg as int)\n",
    "left join bo_interfaces.g_clients on vbrk.KUNRG = g_clients.payer and g_clients.customer = vbrk.kunag and vbrk.vtweg = g_clients.chnl and vbrk.vkorg = 'IL20' \n",
    "  where KUKLA = '11' and Distribution_Channel in ('08', '06') \n",
    "and Sales_Organization = 'IL20'\n",
    "and not (customer_number = 5450846 and Distribution_Channel = 8) and customer_number not in (4360850, 4681193, 4082544)\n",
    "\n",
    "UNION\n",
    "\n",
    "select \n",
    "\"0000000\" as code_mefiz,\n",
    "\"08\" as chnl,\n",
    "\"IL20\" as ccompany,\n",
    "10391164 as sales_employee_code,\n",
    "\"David Ohayon\" as sales_employee_desc,\n",
    "0000000 as Customer,\n",
    "\"0000000\" as payer,\n",
    "\"David Ohayon\" payer_desc,\n",
    "\"David Ohayon\" payer_desc_eng\n",
    "\n",
    "order by chnl, code_mefiz, payer\n",
    "'''\n",
    "spark.sql(dist_customer)"
   ]
  },
  {
   "cell_type": "code",
   "execution_count": 0,
   "metadata": {
    "application/vnd.databricks.v1+cell": {
     "cellMetadata": {
      "byteLimit": 2048000,
      "rowLimit": 10000
     },
     "inputWidgets": {},
     "nuid": "9cd6198d-4068-4fa3-971e-136d473e5bf1",
     "showTitle": false,
     "tableResultSettingsMap": {
      "0": {
       "filterBlob": "{\"filterGroups\":[],\"syncTimestamp\":1739177508505}",
       "tableResultIndex": 0
      }
     },
     "title": ""
    }
   },
   "outputs": [],
   "source": [
    "select * from ds_database.vw_dist_customer"
   ]
  },
  {
   "cell_type": "markdown",
   "metadata": {
    "application/vnd.databricks.v1+cell": {
     "cellMetadata": {
      "byteLimit": 2048000,
      "rowLimit": 10000
     },
     "inputWidgets": {},
     "nuid": "39ce322e-f3ad-415b-94be-6e01225c8bc2",
     "showTitle": false,
     "tableResultSettingsMap": {},
     "title": ""
    }
   },
   "source": [
    "### vw_company_customer\n",
    "Table with all the distributors, sales employees and referred direct customers. <br>\n",
    "Distributor (mefiz): KUKLA = \"11\";\n",
    "Direct customers: KUKLA <> \"11\" and YYDIRECT <> \"X\""
   ]
  },
  {
   "cell_type": "code",
   "execution_count": 0,
   "metadata": {
    "application/vnd.databricks.v1+cell": {
     "cellMetadata": {
      "byteLimit": 2048000,
      "rowLimit": 10000
     },
     "inputWidgets": {},
     "nuid": "ace037b7-03eb-498a-8533-9ebceaf6259e",
     "showTitle": false,
     "tableResultSettingsMap": {},
     "title": ""
    }
   },
   
  {
   "cell_type": "code",
   "execution_count": 0,
   "metadata": {
    "application/vnd.databricks.v1+cell": {
     "cellMetadata": {
      "byteLimit": 2048000,
      "rowLimit": 10000
     },
     "inputWidgets": {},
     "nuid": "d5a2b489-c523-4742-ba06-97d9c065652f",
     "showTitle": false,
     "tableResultSettingsMap": {},
     "title": ""
    }
   },
   "outputs": [],
   "source": [
    "%python\n",
    "stmt = f'''create or replace view {db_name}.vw_company_customer as\n",
    "with direct_customers as (\n",
    "  select knvp1.kunnr as customer,\n",
    "  knvp1.parvw,\n",
    "  knvp1.vtweg,\n",
    "  knvp1.vkorg,\n",
    "  ext_time2 as valid_to,\n",
    "  lead(ext_time2, 1, '2000-01-01') over (partition by knvp1.kunnr, parvw, knvp1.vtweg, knvp1.vkorg, knvp1.kunn2 order by ext_time2 desc) AS valid_from,\n",
    "  ext_time2,\n",
    "  kna1.name1, \n",
    "  knvp1.kunn2 as payer, \n",
    "  kna2.name1 as payer_name,\n",
    "  case when knvp2.kunnr = 5566988 then 10862331 else knvp2.pernr end  as sales_employee_code, ---specific case\n",
    "  cast(knvp1.vtweg as int) as chnl\n",
    "from sap_extraction_prod.knvp knvp1 \n",
    "  join (select distinct kunnr, pernr, vtweg, knvp2.extraction_time as ext_time2 \n",
    "    from sap_extraction_prod.knvp knvp2 \n",
    "    where parvw in ('ZM') and vtweg in ('06', '08') \n",
    "    and vkorg = 'IL20') knvp2 on knvp1.kunnr = knvp2.kunnr and knvp1.vtweg = knvp2.vtweg\n",
    "  join sap_extraction_prod.kna1 on kna1.kunnr = knvp1.kunnr\n",
    "  left join sap_extraction_prod.kna1 kna2 on kna2.kunnr = knvp1.kunn2 \n",
    "  join sap_extraction_prod.knvv on knvv.kunnr = knvp1.kunnr and knvv.vtweg = knvp1.vtweg and knvv.vkorg = knvp1.vkorg\n",
    "where knvp1.parvw in ('RG') \n",
    "  and knvp1.vtweg in ('06', '08') and knvp1.vkorg = 'IL20'\n",
    "  and kna1.kukla <> '11'\n",
    "  and yydirect <> \"X\"\n",
    ")\n",
    "select distr_list.*, \n",
    "valid_to,\n",
    "valid_from,\n",
    "direct_customers.customer as Direct_customer, \n",
    "direct_customers.payer as Direct_cust_payer, \n",
    "direct_customers.chnl as DC_chnl, \n",
    "name1 as DC_DESC_Heb, \n",
    "payer_name as DC_Payer_DESC_HEB\n",
    "from {db_name}.vw_dist_customer distr_list\n",
    "left join direct_customers on distr_list.sales_employee_code = direct_customers.sales_employee_code and direct_customers.chnl = distr_list.chnl\n",
    "'''\n",
    "spark.sql(stmt)"
   ]
  },
  {
   "cell_type": "code",
   "execution_count": 0,
   "metadata": {
    "application/vnd.databricks.v1+cell": {
     "cellMetadata": {
      "byteLimit": 2048000,
      "rowLimit": 10000
     },
     "inputWidgets": {},
     "nuid": "21d0a725-c9d0-4652-96e0-4976f0c0bcc6",
     "showTitle": false,
     "tableResultSettingsMap": {
      "0": {
       "filterBlob": "{\"filterGroups\":[],\"syncTimestamp\":1738830722505}",
       "tableResultIndex": 0
      }
     },
     "title": ""
    }
   },
   "outputs": [],
   "source": [
    "%python\n",
    "display(spark.sql(f\"select * from {db_name}.vw_company_customer\"))"
   ]
  },
  {
   "cell_type": "markdown",
   "metadata": {
    "application/vnd.databricks.v1+cell": {
     "cellMetadata": {
      "byteLimit": 2048000,
      "rowLimit": 10000
     },
     "inputWidgets": {},
     "nuid": "2da73a21-c0ea-4de4-81a3-64eaa94564a9",
     "showTitle": false,
     "tableResultSettingsMap": {},
     "title": ""
    }
   },
   "source": [
    "### vw_customer_group"
   ]
  },
  {
   "cell_type": "markdown",
   "metadata": {
    "application/vnd.databricks.v1+cell": {
     "cellMetadata": {
      "byteLimit": 2048000,
      "rowLimit": 10000
     },
     "inputWidgets": {},
     "nuid": "7979fe4c-02cb-4ae9-81b6-c737859361a9",
     "showTitle": false,
     "tableResultSettingsMap": {},
     "title": ""
    }
   },
   "source": [
    "Table with customer groups: for channel 06 coming from crm_clients_tbl; for channel 08 coming from g_clients."
   ]
  },
  {
   "cell_type": "code",
   "execution_count": 0,
   "metadata": {
    "application/vnd.databricks.v1+cell": {
     "cellMetadata": {
      "byteLimit": 2048000,
      "rowLimit": 10000
     },
     "inputWidgets": {},
     "nuid": "0707891e-245b-4a6d-9438-a7526d57ec1d",
     "showTitle": false,
     "tableResultSettingsMap": {},
     "title": ""
    }
   },
   "outputs": [],
   "source": [
    "%python\n",
    "customer_group = f'''CREATE OR REPLACE VIEW {db_name}.vw_customer_group as\n",
    "select\n",
    "  distinct \n",
    "  case when g_clients.customer is null then crm.client_no else g_clients.customer end as customer,\n",
    "  case when g_clients.customer is null then crm.client_no else g_clients.payer end as payer,\n",
    "  case\n",
    "    when (g_clients.chnl = 6  or crm.chnl = 6)  and crm.cust_group is not null then crm.cust_group\n",
    "    when (g_clients.chnl = 6  or crm.chnl = 6)  and crm.cust_group is null then trim(cust_grp_6) \n",
    "    when g_clients.chnl = 8    and crm.client_no in (2815990, 2815993, 2815994, 2816003) then \"L92\"\n",
    "    when g_clients.chnl = 8    and trim(cust_grp_6) in (\"L5N\", \"L3O\") then \"L91\"\n",
    "    when g_clients.chnl = 8    and trim(cust_grp_6) not in (\"L5N\", \"L3O\") then CUST_GRP_6\n",
    "  end as Cust_group,\n",
    "  case when crm.cust_group is not null then crm.chnl else g_clients.CHNL end as Chnl\n",
    "from\n",
    "  bo_interfaces.g_clients\n",
    "  full outer join bo_interfaces.crm_clients_tbl crm on crm.client_no = g_clients.customer\n",
    "  and g_clients.chnl = crm.chnl\n",
    "  and crm.organization = 'IL20' \n",
    "  and crm.chnl = 6\n",
    "where crm.chnl in (6,8)\n",
    "and nvl(crm.ORGANIZATION, 0) <> 'IL12' and nvl(ccompany, 0) <> 'IL12'\n",
    "'''\n",
    "spark.sql(customer_group)"
   ]
  },
  {
   "cell_type": "markdown",
   "metadata": {
    "application/vnd.databricks.v1+cell": {
     "cellMetadata": {
      "byteLimit": 2048000,
      "rowLimit": 10000
     },
     "inputWidgets": {},
     "nuid": "250f545d-e433-466a-93e1-d2cdada75ddc",
     "showTitle": false,
     "tableResultSettingsMap": {},
     "title": ""
    }
   },
   "source": [
    "###GP = Gross Purchase (all transactions with F2, G2 (-), RE(-))"
   ]
  },
  {
   "cell_type": "code",
   "execution_count": 0,
   "metadata": {
    "application/vnd.databricks.v1+cell": {
     "cellMetadata": {
      "byteLimit": 2048000,
      "rowLimit": 10000
     },
     "inputWidgets": {},
     "nuid": "2916f218-1d97-4b01-bc12-5e6ac0f189f3",
     "showTitle": false,
     "tableResultSettingsMap": {},
     "title": ""
    }
   },
   "outputs": [],
   "source": [
    "%python\n",
    "stmt =f'''\n",
    "create or replace table {db_name}.Gross_purchase as \n",
    "---GP\n",
    "select distinct\n",
    "  \"GP\" as SUG,\n",
    "  cast(vbrk.KUNAG as int) as Customer,\n",
    "  kna1.name1 as Customer_Name,\n",
    "  cast(vbrk.KUNRG as int) as Payer,\n",
    "  kna2.name1 as Payer_Name,\n",
    "  cast(vbrp.MATNR as int) as Item_Num,\n",
    "  posnr as Line_no,\n",
    "  left(vbrp.PRODH, 3) as Business,\n",
    "  concat(left(vbrp.PRODH, 3), substr(vbrp.PRODH, 5,1)) as Category,\n",
    "  concat(left(vbrp.PRODH, 3), substr(vbrp.PRODH, 7,3)) as LP_MID,\n",
    "  PRODH as Segment,\n",
    "  vbrk.VBELN as Document_Num,\n",
    "  vbrk.FKART as Billing_Type,\n",
    "  \"\" as Return_Reason,\n",
    "  case when cg.cust_group is null and vbrk.vtweg = '06' then \"L67\" \n",
    "  when cg.cust_group is null and vbrk.vtweg = '08' then 'L91'\n",
    "  else cg.cust_group end as Commission_Group,\n",
    "  vbrk.VTWEG as Distribution_Channel,\n",
    "  dist_customer.Sales_employee_code  as Sales_Person, --- delete to avoid duplication when exceptional case 2 sales employees\n",
    "  dist_customer.Payer as CODE_MEFIZ,\n",
    "  dist_customer.Customer as POS,\n",
    "  dist_customer.Payer_desc as Distr_Name,\n",
    "  dist_customer.sales_employee_desc as Sales_Emp_Name_EN, -- sales employee name\n",
    "  vbrp.KZWI1 * CASE when vbrk.FKART in ('RE', 'G2', 'ZG2Q', 'ZC', 'S1') then -1 else 1 end as Bruto,\n",
    "  vbrp.KZWI2 as Trade_Discount,\n",
    "  vbrp.KZWI3 as Special_Discount,\n",
    "  0 as HEFRESH_MEKUBAIM,\n",
    "  vbrp.NETWR * CASE when vbrk.FKART in ('RE', 'G2', 'ZG2Q', 'ZC', 'S1') then -1 else 1 end as Neto,\n",
    "  vbrp.FKIMG as Quantity,\n",
    "  to_date(vbrk.erdat, 'yyyyMMdd') as Document_Date,\n",
    "  to_date(bkpf.budat, 'yyyy.MM.dd') as Posting_Date,\n",
    "  CASE \n",
    "  WHEN to_date(vbrk.erdat, 'yyyyMMdd')< last_day(to_date(vbrk.erdat, 'yyyyMMdd')) and to_date(bkpf.budat, 'yyyy.MM.dd') <= last_day(to_date(vbrk.erdat, 'yyyyMMdd'))  then day(to_date(vbrk.erdat, 'yyyyMMdd')) else \"1\" \n",
    "  END as Rec_DAY,\n",
    "  CASE \n",
    "  WHEN to_date(vbrk.erdat, 'yyyyMMdd')< last_day(to_date(vbrk.erdat, 'yyyyMMdd')) and to_date(bkpf.budat, 'yyyy.MM.dd') <= last_day(to_date(vbrk.erdat, 'yyyyMMdd')) then month(to_date(vbrk.erdat, 'yyyyMMdd'))  \n",
    "  WHEN to_date(vbrk.erdat, 'yyyyMMdd')>= last_day(to_date(vbrk.erdat, 'yyyyMMdd')) and month(to_date(vbrk.erdat, 'yyyyMMdd')) = 12 then 1\n",
    "  else month(to_date(vbrk.erdat, 'yyyyMMdd')) +1\n",
    "  end as Rec_Month,\n",
    "  CASE WHEN VBRK.ERDAT LIKE \"20%1231\" THEN YEAR(to_date(vbrk.erdat, 'yyyyMMdd'))+1 ELSE YEAR(to_date(vbrk.erdat, 'yyyyMMdd')) END as Rec_Year\n",
    "from sap_extraction_prod.vbrk\n",
    "  join sap_extraction_prod.vbrp on vbrp.VBELN = VBRK.VBELN\n",
    "  join sap_extraction_prod.bkpf on vbrk.VBELN = bkpf.BELNR\n",
    "  inner join {db_name}.vw_dist_customer as dist_customer on cast(dist_customer.Customer as int) = cast(vbrk.KUNAG as int) and cast(dist_customer.Payer as int) = cast(vbrk.KUNRG as int) and cast(dist_customer.chnl as int) = cast(vbrk.vtweg as int)\n",
    "  left join {db_name}.vw_customer_group cg on cg.customer = vbrk.kunag and cg.chnl = vbrk.vtweg  and cg.payer = vbrk.kunrg \n",
    "  join sap_extraction_prod.kna1 on kna1.kunnr = vbrk.KUNAG \n",
    "  join sap_extraction_prod.kna1 kna2 on kna2.kunnr = vbrk.KUNRG \n",
    "where \n",
    "  (to_date(bkpf.cpudt, 'yyyy.MM.dd') >= \"{start_date}\" and to_date(bkpf.cpudt, 'yyyy.MM.dd') <= \"{end_date}\" and to_date(bkpf.budat, 'yyyy.MM.dd') <= \"{end_date}\") and (to_date(vbrk.erdat, 'yyyyMMdd') >= \"{start_date}\" and to_date(vbrk.erdat, 'yyyyMMdd') < \"{end_date}\")\n",
    "  and vbrk.FKART in (\"F2\", \"G2\", \"RE\") \n",
    "  '''\n",
    "spark.sql(stmt)\n"
   ]
  },
  {
   "cell_type": "code",
   "execution_count": 0,
   "metadata": {
    "application/vnd.databricks.v1+cell": {
     "cellMetadata": {
      "byteLimit": 2048000,
      "rowLimit": 10000
     },
     "inputWidgets": {},
     "nuid": "df7137e0-39d1-4555-91d8-9eb4e889cc1c",
     "showTitle": false,
     "tableResultSettingsMap": {},
     "title": ""
    }
   },
   "outputs": [],
   "source": [
    "%python\n",
    "display(spark.sql(f\"select * from {db_name}.Gross_purchase\"))"
   ]
  },
  {
   "cell_type": "markdown",
   "metadata": {
    "application/vnd.databricks.v1+cell": {
     "cellMetadata": {
      "byteLimit": 2048000,
      "rowLimit": 10000
     },
     "inputWidgets": {},
     "nuid": "6a4f83c7-82b7-413f-8de6-67218b34b71a",
     "showTitle": false,
     "tableResultSettingsMap": {},
     "title": ""
    }
   },
   "source": [
    "### GB - Back to back purchase"
   ]
  },
  {
   "cell_type": "code",
   "execution_count": 0,
   "metadata": {
    "application/vnd.databricks.v1+cell": {
     "cellMetadata": {
      "byteLimit": 2048000,
      "rowLimit": 10000
     },
     "inputWidgets": {},
     "nuid": "5b57d0a0-1521-4b01-8d70-e1d517af89d4",
     "showTitle": false,
     "tableResultSettingsMap": {},
     "title": ""
    }
   },
   "outputs": [],
   "source": [
    "%python\n",
    "stmt =f'''\n",
    "Create or replace table {db_name}.B2B_purchase as\n",
    "--- GB\n",
    "select distinct\n",
    "  \"GB\" as SUG,\n",
    "  cast(vbrk.KUNAG as int) as Customer,\n",
    "  kna1.name1 as Customer_Name,\n",
    "  cast(vbrk.KUNRG as int) as Payer,\n",
    "  kna2.name1 as Payer_Name,\n",
    "  cast(vbrp.MATNR as int) as Item_Num,\n",
    "  Posnr as line_no,\n",
    "  left(vbrp.PRODH, 3) as Business,\n",
    "  concat(left(vbrp.PRODH, 3), substr(vbrp.PRODH, 5,1)) as Category,\n",
    "  concat(left(vbrp.PRODH, 3), substr(vbrp.PRODH, 7,3)) as LP_MID,\n",
    "  PRODH as Segment,\n",
    "  vbrk.VBELN as Document_Num,\n",
    "  vbrk.FKART as Billing_Type,\n",
    "  \"\" as Return_Reason,\n",
    "  case when cg.cust_group is null and vbrk.vtweg = '06' then \"L67\" \n",
    "  when cg.cust_group is null and vbrk.vtweg = '08' then 'L91'\n",
    "  else cg.cust_group end as Commission_Group,\n",
    "  vbrk.VTWEG as Distribution_Channel,\n",
    "  sales_employee_code as Sales_Person, \n",
    "  case \n",
    "    when fkart in ('ZL2Q', 'S1') and augru = 'AD' \n",
    "    or fkart = 'ZG2Q' and augru <> 'AD' and cast(vbpa.payer as int) is not null \n",
    "    then cast(vbpa.payer as int) else  distr_list.Payer \n",
    "  end as CODE_MEFIZ,\n",
    "  distr_list.Customer as POS,\n",
    "  case \n",
    "    when fkart in ('ZL2Q', 'S1') and augru = 'AD' \n",
    "    or fkart = 'ZG2Q' and augru <> 'AD' and cast(vbpa.payer as int) is not null \n",
    "    then cast(vbpa.name1 as int) else  distr_list.Payer_desc \n",
    "  end as Distributor_Name,\n",
    "  distr_list.sales_employee_desc as Sales_emp_Name_EN, ---last change\n",
    "  vbrp.KZWI1 * CASE when vbrk.FKART in ('RE', 'G2', 'ZG2Q', 'ZC', 'S1') then -1 else 1 end as Bruto,\n",
    "  vbrp.KZWI2  as Trade_Discount,\n",
    "  vbrp.KZWI3 as Special_Discount,\n",
    "  0 as HEFRESH_MEKUBAIM,\n",
    "  vbrp.NETWR * CASE when vbrk.FKART in ('RE', 'G2', 'ZG2Q', 'ZC', 'S1') then -1 else 1 end as Neto,\n",
    "  vbrp.FKIMG as Quantity,\n",
    "  to_date(vbrk.erdat, 'yyyyMMdd') as Document_Date,\n",
    "  to_date(bkpf.budat, 'yyyy.MM.dd') as Posting_Date,\n",
    "  CASE \n",
    "  WHEN to_date(vbrk.erdat, 'yyyyMMdd')< last_day(to_date(vbrk.erdat, 'yyyyMMdd')) and to_date(bkpf.budat, 'yyyy.MM.dd') <= last_day(to_date(vbrk.erdat, 'yyyyMMdd')) then day(to_date(vbrk.erdat, 'yyyyMMdd')) else \"1\"\n",
    "  END as Rec_DAY,\n",
    "  CASE \n",
    "  WHEN to_date(vbrk.erdat, 'yyyyMMdd')< last_day(to_date(vbrk.erdat, 'yyyyMMdd')) and to_date(bkpf.budat, 'yyyy.MM.dd') <= last_day(to_date(vbrk.erdat, 'yyyyMMdd')) then month(to_date(vbrk.erdat, 'yyyyMMdd')) \n",
    "  WHEN to_date(vbrk.erdat, 'yyyyMMdd')>= last_day(to_date(vbrk.erdat, 'yyyyMMdd')) and month(to_date(vbrk.erdat, 'yyyyMMdd')) = 12 then 1\n",
    "  else month(to_date(vbrk.erdat, 'yyyyMMdd')) +1\n",
    "  end as Rec_Month,\n",
    "  CASE WHEN VBRK.ERDAT LIKE \"20%1231\" THEN YEAR(to_date(vbrk.erdat, 'yyyyMMdd'))+1 ELSE YEAR(to_date(vbrk.erdat, 'yyyyMMdd')) END as Rec_Year\n",
    "from sap_extraction_prod.vbrp\n",
    "  join sap_extraction_prod.vbrk on vbrp.VBELN = VBRK.VBELN\n",
    "  join sap_extraction_prod.bkpf on vbrk.VBELN = bkpf.BELNR\n",
    "  join sap_extraction_prod.kna1 on kna1.kunnr = vbrk.KUNAG \n",
    "  join sap_extraction_prod.kna1 kna2 on kna2.kunnr = vbrk.KUNRG \n",
    "  left join ds_database.vw_customer_group cg on cg.customer = vbrk.kunag and cg.chnl = vbrk.vtweg and cg.payer = vbrk.kunrg\n",
    "  left join (select distinct kunnr, vtweg, pernr, parvw from sap_extraction_prod.knvp) knvp on knvp.KUNNR = vbrk.kunrg and knvp.VTWEG = vbrk.VTWEG\n",
    "  join ds_database.vw_dist_customer as distr_list on cast(distr_list.Customer as int) = cast(vbrk.KUNAG as int) and cast(distr_list.Payer as int) = cast(vbrk.kunrg as int) and distr_list.chnl = vbrk.vtweg   \n",
    "  left join sap_extraction_prod.vbak on vbrp.vgbel = vbak.VBELN\n",
    "  left join (select vbeln, vbpa.kunnr, parvw, name1, vw.payer from sap_extraction_prod.vbpa         \n",
    "        join ds_database.vw_dist_customer vw on cast(vbpa.kunnr as int) = cast(vw.customer as int)\n",
    "        join (select distinct payer as kunnr, payer_desc as name1 from ds_database.vw_dist_customer) name on cast(name.kunnr as int) = cast(vw.payer as int)) vbpa on aubel = vbpa.vbeln and vbpa.parvw = 'ZK'  \n",
    "where \n",
    "  ---(to_date(vbrk.erdat, 'yyyyMMdd') >= \"{start_date}\" and to_date(vbrk.erdat, 'yyyyMMdd') < \"{end_date}\")\n",
    "  (to_date(bkpf.cpudt, 'yyyy.MM.dd') >= \"{start_date}\" and to_date(bkpf.cpudt, 'yyyy.MM.dd') < \"{end_date}\") and (to_date(vbrk.erdat, 'yyyyMMdd') >= \"{start_date}\" and to_date(vbrk.erdat, 'yyyyMMdd') < \"{end_date}\")\n",
    "  and vbrk.VTWEG in ('06', '08')\n",
    "  and knvp.PARVW in ('ZM', 'ER')\n",
    "  and FKART in (\"ZL2Q\", \"ZG2Q\", \"S1\")\n",
    "'''\n",
    "spark.sql(stmt)\n"
   ]
  },
  {
   "cell_type": "code",
   "execution_count": 0,
   "metadata": {
    "application/vnd.databricks.v1+cell": {
     "cellMetadata": {
      "byteLimit": 2048000,
      "rowLimit": 10000
     },
     "inputWidgets": {},
     "nuid": "f4a6c659-e61d-4afb-8bc7-3565cdb669c3",
     "showTitle": false,
     "tableResultSettingsMap": {},
     "title": ""
    }
   },
   "outputs": [],
   "source": [
    "%python\n",
    "display(spark.sql(f\"select * from {db_name}.B2B_purchase\"))"
   ]
  },
  {
   "cell_type": "markdown",
   "metadata": {
    "application/vnd.databricks.v1+cell": {
     "cellMetadata": {
      "byteLimit": 2048000,
      "rowLimit": 10000
     },
     "inputWidgets": {},
     "nuid": "4fe55a57-0a28-4976-9ef9-c2460448cbf9",
     "showTitle": false,
     "tableResultSettingsMap": {},
     "title": ""
    }
   },
   "source": [
    "###GD - Direct customer sales"
   ]
  },
  {
   "cell_type": "code",
   "execution_count": 0,
   "metadata": {
    "application/vnd.databricks.v1+cell": {
     "cellMetadata": {
      "byteLimit": 2048000,
      "rowLimit": 10000
     },
     "inputWidgets": {},
     "nuid": "48d5d56d-8ac0-4168-9986-c9dde63be3eb",
     "showTitle": false,
     "tableResultSettingsMap": {},
     "title": ""
    }
   },
   "outputs": [],
   "source": [
    "%python\n",
    "stmt = f'''Create or replace table {db_name}.Direct_cust_purchase as\n",
    "select distinct \n",
    "--- GD\n",
    "  \"GD\" as SUG,\n",
    "  cast(Direct_Customer as int) as Customer,\n",
    "  DC_DESC_HEB as Customer_Name,\n",
    "  cast(Direct_Cust_Payer as int) as Payer,\n",
    "  DC_Payer_DESC_HEB as Payer_Name,\n",
    "  cast(vbrp.MATNR as int) as Item_Num,\n",
    "  POSNR as line_no,\n",
    "  left(vbrp.PRODH, 3) as Business,\n",
    "  concat(left(vbrp.PRODH, 3), substr(vbrp.PRODH, 5,1)) as Category,\n",
    "  concat(left(vbrp.PRODH, 3), substr(vbrp.PRODH, 7,3)) as LP_MID,\n",
    "  PRODH as Segment,\n",
    "  vbrk.VBELN as Document_Num,\n",
    "  vbrk.FKART as Billing_Type,\n",
    "  \"\" as Return_Reason,\n",
    "  case when cg.cust_group is null and vbrk.vtweg = '06' then \"L67\" \n",
    "  when cg.cust_group is null and vbrk.vtweg = '08' then 'L91'\n",
    "  else cg.cust_group end as Commission_Group,  \n",
    "  vbrk.VTWEG as Distribution_Channel,  \n",
    "  dc.sales_employee_code,\n",
    "  case when fkart in ('ZL2Q', 'S1') and augru = 'AD' \n",
    "  or fkart = 'ZG2Q' and augru <> 'AD' and cast(vbpa.payer as int) is not null then cast(vbpa.payer as int) else cast(dc.Payer as int) end AS CODE_MEFIZ, --- cast(dc.Payer as int) = 0 if not work\n",
    "  cast(dc.Direct_customer as int) as POS,\n",
    "  case when fkart in ('ZL2Q', 'S1') and augru = 'AD' \n",
    "  or fkart = 'ZG2Q' and augru <> 'AD' and cast(vbpa.payer as int) is not null then vbpa.name1 else dc.Payer_desc end as Distr_Name, \n",
    "  dc.sales_employee_desc as Sales_Emp_Name_Eng, \n",
    "  vbrp.KZWI1 * CASE when vbrk.FKART in ('RE', 'G2', 'ZG2Q', 'ZC', 'S1') then -1 else 1 end as Bruto,\n",
    "  vbrp.KZWI2 as Trade_Discount, --- han misharit\n",
    "  vbrp.KZWI3 as Special_Discount,\n",
    "  0 as HEFRESH_MEKUBAIM,\n",
    "  vbrp.NETWR * CASE when vbrk.FKART in ('RE', 'G2', 'ZG2Q', 'ZC', 'S1') then -1 else 1 end as Neto,\n",
    "  vbrp.FKIMG as Quantity,\n",
    "  to_date(vbrk.erdat, 'yyyyMMdd') as Document_Date,\n",
    "  to_date(bkpf.budat, 'yyyy.MM.dd') as Posting_Date,\n",
    "  CASE \n",
    "  WHEN TO_DATE(vbrk.erdat, 'yyyyMMdd') = last_day(to_date(vbrk.erdat, 'yyyyMMdd')) then \"1\" else day(to_date(vbrk.erdat, 'yyyyMMdd'))\n",
    "  END as Rec_DAY,\n",
    "  CASE \n",
    "  WHEN TO_DATE(vbrk.erdat, 'yyyyMMdd') <last_day(to_date(vbrk.erdat, 'yyyyMMdd')) then month(to_date(vbrk.erdat, 'yyyyMMdd'))  \n",
    "  WHEN to_date(vbrk.erdat, 'yyyyMMdd')= last_day(to_date(vbrk.erdat, 'yyyyMMdd')) and month(to_date(vbrk.erdat, 'yyyyMMdd')) = 12 then 1\n",
    "  else month(to_date(vbrk.erdat, 'yyyyMMdd')) +1\n",
    "  end as Rec_Month,\n",
    "  CASE WHEN VBRK.ERDAT LIKE \"%1231\" THEN YEAR(to_date(vbrk.erdat, 'yyyyMMdd'))+1 ELSE YEAR(to_date(vbrk.erdat, 'yyyyMMdd')) END as Rec_Year\n",
    "from sap_extraction_prod.vbrk\n",
    "  join {db_name}.vw_company_customer dc on vbrk.vtweg = dc.DC_chnl and dc.Direct_customer = vbrk.KUNAG and dc.Direct_cust_payer = vbrk.kunrg\n",
    "  join sap_extraction_prod.vbrp on vbrk.vbeln = vbrp.vbeln \n",
    "  left join sap_extraction_prod.bkpf on vbrk.vbeln = bkpf.belnr\n",
    "  left join sap_extraction_prod.vbak on vbrp.vgbel = vbak.VBELN\n",
    "  left join (select vbeln, vbpa.kunnr, parvw, name1, vw.payer from sap_extraction_prod.vbpa         \n",
    "        join {db_name}.vw_dist_customer vw on cast(vbpa.kunnr as int) = cast(vw.customer as int)\n",
    "        join (select distinct payer as kunnr, payer_desc as name1 from ds_database.vw_dist_customer) name on cast(name.kunnr as int) = cast(vw.payer as int)) vbpa on aubel = vbpa.vbeln and parvw = 'ZK'\n",
    "  left join {db_name}.vw_customer_group cg on cg.customer = dc.Direct_customer and cg.chnl = vbrk.vtweg and cg.payer = dc.Direct_cust_payer \n",
    "\n",
    "where \n",
    " (to_date(bkpf.cpudt, 'yyyy.MM.dd') >= \"{start_date}\" and to_date(bkpf.cpudt, 'yyyy.MM.dd') < \"{end_date}\") and (to_date(vbrk.erdat, 'yyyyMMdd') >= \"{start_date}\" and to_date(vbrk.erdat, 'yyyyMMdd') < \"{end_date}\")\n",
    "  and vbrk.VTWEG in ('06','08')\n",
    "  and to_date(vbrk.erdat, 'yyyyMMdd') >= to_date(valid_from) and to_date(vbrk.erdat, 'yyyyMMdd')< to_date(valid_to) --- last change\n",
    "  '''\n",
    "spark.sql(stmt)\n"
   ]
  },
  {
   "cell_type": "code",
   "execution_count": 0,
   "metadata": {
    "application/vnd.databricks.v1+cell": {
     "cellMetadata": {
      "byteLimit": 2048000,
      "rowLimit": 10000
     },
     "inputWidgets": {},
     "nuid": "48a5051b-ebe9-4ef4-8412-c58167beb127",
     "showTitle": false,
     "tableResultSettingsMap": {
      "0": {
       "filterBlob": "{\"filterGroups\":[{\"enabled\":true,\"filterGroupId\":\"fg_ed6133b3\",\"op\":\"OR\",\"filters\":[{\"filterId\":\"f_652ecab0\",\"enabled\":true,\"columnId\":\"Sales_Emp_Name_Eng\",\"dataType\":\"string\",\"filterType\":\"oneof\",\"filterValues\":[\"David Ohayon\"],\"filterConfig\":{}}],\"local\":false,\"updatedAt\":1738831638357}],\"syncTimestamp\":1738831638357}",
       "tableResultIndex": 0
      }
     },
     "title": ""
    }
   },
   "outputs": [],
   "source": [
    "%python\n",
    "display(spark.sql(f\"select * from {db_name}.Direct_cust_purchase\"))"
   ]
  },
  {
   "cell_type": "markdown",
   "metadata": {
    "application/vnd.databricks.v1+cell": {
     "cellMetadata": {
      "byteLimit": 2048000,
      "rowLimit": 10000
     },
     "inputWidgets": {},
     "nuid": "68498bb8-5516-462c-8465-b8f82ee4a0ca",
     "showTitle": false,
     "tableResultSettingsMap": {},
     "title": ""
    }
   },
   "source": [
    "###HI - distributors sales"
   ]
  },
  {
   "cell_type": "markdown",
   "metadata": {
    "application/vnd.databricks.v1+cell": {
     "cellMetadata": {
      "byteLimit": 2048000,
      "rowLimit": 10000
     },
     "inputWidgets": {},
     "nuid": "fa2afae0-4f38-4218-9754-274d1455b29b",
     "showTitle": false,
     "tableResultSettingsMap": {},
     "title": ""
    }
   },
   "source": [
    "HI & HB is the data from Pocketlink - distributor sales for each sales employee. <br>\n",
    "Data received from SalesExtract (table chp.sales_extract) that is sourced by daily extraction (see process 905 - Table Mefitz) <br>\n",
    "<br>\n",
    "Pocketlink documents: if the amount of invoice is above 25k ILS, it is blocked by government rule, and has a status SUSPENDED until manual action => can have delays in receiving these documents to our table."
   ]
  },
  {
   "cell_type": "code",
   "execution_count": 0,
   "metadata": {
    "application/vnd.databricks.v1+cell": {
     "cellMetadata": {
      "byteLimit": 2048000,
      "rowLimit": 10000
     },
     "inputWidgets": {},
     "nuid": "426e372f-7b3f-4899-acc9-69b376baa74c",
     "showTitle": false,
     "tableResultSettingsMap": {},
     "title": ""
    }
   },
   "outputs": [],
   "source": [
    "%python\n",
    "stmt =f'''\n",
    "Create or replace table {db_name}.HI_sales as\n",
    "--- HI\n",
    "select  distinct\n",
    "  \"HI\" as SUG,\n",
    "  ia_sales.Customer,  \n",
    "  g_clients.Client_desc_heb as Customer_Name,\n",
    "  ia_sales.Customer as Payer,\n",
    "  g_clients.Payer_desc_heb as Payer_name,\n",
    "  ia_sales.Material as Item_Num,\n",
    "  rank() over (partition by DocumentID order by Material) as Line_no,\n",
    "  stg_items.Business as Business,\n",
    "  concat(trim(stg_items.Business), substr(stg_items.SUB_CATEGORY, 5,1)) as Category,\n",
    "  concat(trim(stg_items.Business), substr(stg_items.SUB_CATEGORY, 7,3)) as LP_MID,\n",
    "  stg_items.Segment,\n",
    "  ia_sales.DOCUMENTID as Document_Num,\n",
    "  ia_sales.BillingType as Billing_Type,\n",
    "  ReturReasonCode as Return_Reason,\n",
    "  case when cg.cust_group is null and ia_sales.DistChannel = 6 then \"L67\" \n",
    "  when cg.cust_group is null and ia_sales.DistChannel = 8 then 'L91'\n",
    "  else cg.cust_group end as Commission_Group, \n",
    "  ia_sales.DistChannel as Distribution_Channel,\n",
    "  ia_sales.SALESEMPLOYEE as Sales_Person,\n",
    "  distr_list.Payer as CODE_MEFIZ,\n",
    "  distr_list.Payer AS POS, ---should be customer but then it duplicates the output in case of 2 customers\n",
    "  distr_list.Payer_desc as Distributor_Name, \n",
    "  distr_list.sales_employee_desc as Sales_Emp_Name_EN, \n",
    "  ia_sales.SubTotal1 * case when ia_sales.BillingType = 16 then -1 else 1 end as Bruto,\n",
    "  ia_sales.SubTotal2 * case when ia_sales.BillingType = 16 then 1 else -1 end as HAN_MISHARIT, \n",
    "  ia_sales.SubTotal3 * case when ia_sales.BillingType = 16 then 1 else -1 end as HAN_MIVZA,  \n",
    "  (ia_sales.SubTotal2 + ia_sales.SubTotal3)* case when ia_sales.BillingType = 16 then 1 else -1 end as HEFRESH_MEKUBAIM,\n",
    "  ia_sales.NetNetValue * case when ia_sales.BillingType = 16 then -1 else 1 end as Neto,  \n",
    "  ia_sales.NetNetBUOM as Quantity,\n",
    "  to_date(CalendarDay, \"dd/MM/yyyy\") as Document_date,\n",
    "  to_date(CalendarDay, \"dd/MM/yyyy\") as Posting_Date,\n",
    "  CASE when to_date(CalendarDay, \"dd/MM/yyyy\") = last_day(to_date(CalendarDay, \"dd/MM/yyyy\"))  then 1 else  day(to_date(CalendarDay, \"dd/MM/yyyy\"))  end as  REC_DAY ,\n",
    "  CASE when to_date(CalendarDay, \"dd/MM/yyyy\") < last_day(to_date(CalendarDay, \"dd/MM/yyyy\")) then month(to_date(CalendarDay, \"dd/MM/yyyy\"))  \n",
    "  when month(to_date(CalendarDay, \"dd/MM/yyyy\")) = 12 then 1\n",
    "  else  month(to_date(CalendarDay, \"dd/MM/yyyy\"))+1  end as  REC_MONTH,\n",
    "  case when CalendarDay like \"31/12/%\" then YEAR(to_date(CalendarDay, \"dd/MM/yyyy\"))+1 else YEAR(to_date(CalendarDay, \"dd/MM/yyyy\")) end AS REC_YEAR\n",
    "FROM chp.sales_extract as ia_sales \n",
    "join (select distinct payer, payer_desc, payer_desc_eng, sales_employee_code, sales_employee_desc, chnl from {db_name}.vw_dist_customer)  as distr_list on distr_list.sales_employee_code = ia_sales.salesemployee and distr_list.chnl = ia_sales.distchannel \n",
    "left join stage_dimensions.stg_items on stg_items.item_no = ia_sales.Material --- last change\n",
    "left join (select distinct customer, cust_group, chnl from {db_name}.vw_customer_group) cg on trim(cg.customer) = trim(ia_sales.Customer)  and cg.chnl = ia_sales.DistChannel \n",
    "left join bo_interfaces.g_clients on g_clients.chnl = ia_sales.DistChannel and g_clients.customer = ia_sales.customer and g_clients.ccompany = 'IL20'\n",
    "left join (select distinct matnr, prodh from sap_extraction_prod.vbrp join sap_extraction_prod.vbrk on vbrk.vbeln = vbrp.vbeln  where year(to_date(erdat, 'yyyyMMdd'))= year(current_date())) vbrp on cast(vbrp.matnr as int) = cast(ia_sales.Material as  int)\n",
    "where \n",
    "    (TO_DATE(CalendarDay, 'dd/MM/yyyy') >= '{start_date}' \n",
    "     AND TO_DATE(CalendarDay, 'dd/MM/yyyy') < '{end_date}')\n",
    "     and distr_list.payer <> 4082544\n",
    "\n",
    "'''\n",
    "spark.sql(stmt)\n"
   ]
  },
  {
   "cell_type": "code",
   "execution_count": 0,
   "metadata": {
    "application/vnd.databricks.v1+cell": {
     "cellMetadata": {
      "byteLimit": 2048000,
      "rowLimit": 10000
     },
     "inputWidgets": {},
     "nuid": "c4601057-ca14-40f9-8114-4fc6f5ca0e17",
     "showTitle": false,
     "tableResultSettingsMap": {
      "0": {
       "filterBlob": "{\"filterGroups\":[],\"syncTimestamp\":1738831663435}",
       "tableResultIndex": 0
      }
     },
     "title": ""
    }
   },
   "outputs": [],
   "source": [
    "%python\n",
    "display(spark.sql(f\"select * from {db_name}.HI_sales\"))"
   ]
  },
  {
   "cell_type": "markdown",
   "metadata": {
    "application/vnd.databricks.v1+cell": {
     "cellMetadata": {
      "byteLimit": 2048000,
      "rowLimit": 10000
     },
     "inputWidgets": {},
     "nuid": "96517f55-c04e-4ee8-a6a4-eb42de33ad80",
     "showTitle": false,
     "tableResultSettingsMap": {},
     "title": ""
    }
   },
   "source": [
    "###HB - sales to distributors' customers"
   ]
  },
  {
   "cell_type": "code",
   "execution_count": 0,
   "metadata": {
    "application/vnd.databricks.v1+cell": {
     "cellMetadata": {
      "byteLimit": 2048000,
      "rowLimit": 10000
     },
     "inputWidgets": {},
     "nuid": "aefcc202-8050-4e68-9164-50b6442a7b40",
     "showTitle": false,
     "tableResultSettingsMap": {},
     "title": ""
    }
   },
   "outputs": [],
   "source": [
    "%python\n",
    "stmt =f'''\n",
    "Create or replace table {db_name}.HB_sales as\n",
    "select  distinct\n",
    "  \"HB\" as SUG,\n",
    "  distr_list.Payer as Customer,\n",
    "  distr_list.payer_desc as Customer_Name,\n",
    "  distr_list.Payer as Payer,  ---should be customer but then it duplicates the output in case of 2 customers\n",
    "  distr_list.payer_desc as Payer_Name,\n",
    "  ia_sales.Material as Item_Num,\n",
    "  rank() over (partition by DocumentID order by Material) as Line_no,\n",
    "  stg_items.Business as Business,\n",
    "  concat(trim(stg_items.Business), substr(stg_items.SUB_CATEGORY, 5,1)) as Category,\n",
    "  concat(trim(stg_items.Business), substr(stg_items.SUB_CATEGORY, 7,3)) as LP_MID,\n",
    "  stg_items.Segment,\n",
    "  ia_sales.DOCUMENTID as Document_Num,\n",
    "  ia_sales.BillingType as Billing_Type,\n",
    "  ReturReasonCode as Return_Reason,\n",
    "  case when cg.cust_group is null and ia_sales.DistChannel = 6 then \"L67\" \n",
    "  when cg.cust_group is null and ia_sales.DistChannel = 8 then 'L91'\n",
    "  else cg.cust_group end as Commission_Group, \n",
    "  ia_sales.DistChannel as Distribution_Channel,\n",
    "  ia_sales.SALESEMPLOYEE as Sales_Person,\n",
    "  distr_list.Payer AS CODE_MEFIZ,\n",
    "  distr_list.Payer as POS,\n",
    "  distr_list.payer_desc as Distributor_Name, \n",
    "  distr_list.sales_employee_desc as Sales_Emp_Name_en, ---last change\n",
    "  ia_sales.SubTotal1 * case when ia_sales.BillingType = 16 then 1 else -1 end as Bruto,\n",
    "  0.00 as Trade_Discount_HAN_MISHARIT, \n",
    "  0.00 as HAN_MIVZA,  \n",
    "  0.00 as HEFRESH_MEKUBAIM,\n",
    "  ia_sales.SubTotal1 * case when ia_sales.BillingType = 16 then 1 else -1 end as Neto,\n",
    "  ia_sales.NetNetBUOM as Quantity,\n",
    "  to_date(CalendarDay, \"dd/MM/yyyy\") as Document_date,\n",
    "  to_date(CalendarDay, \"dd/MM/yyyy\") as Posting_date,\n",
    "  CASE when to_date(CalendarDay, \"dd/MM/yyyy\") = last_day(to_date(CalendarDay, \"dd/MM/yyyy\")) then 1 else  day(to_date(CalendarDay, \"dd/MM/yyyy\"))  end as \n",
    "   REC_DAY,\n",
    "  CASE when to_date(CalendarDay, \"dd/MM/yyyy\") < last_day(to_date(CalendarDay, \"dd/MM/yyyy\")) then month(to_date(CalendarDay, \"dd/MM/yyyy\"))  \n",
    "  when month(to_date(CalendarDay, \"dd/MM/yyyy\")) = 12 then 1\n",
    "  else  month(to_date(CalendarDay, \"dd/MM/yyyy\"))+1  end as  REC_MONTH,\n",
    "  case when CalendarDay like \"31/12/%\" then YEAR(to_date(CalendarDay, \"dd/MM/yyyy\"))+1 else YEAR(to_date(CalendarDay, \"dd/MM/yyyy\")) end AS REC_YEAR\n",
    "FROM chp.sales_extract as ia_sales \n",
    "join (select distinct payer, payer_desc, payer_desc_eng, sales_employee_code, sales_employee_desc, chnl from {db_name}.vw_dist_customer) as distr_list on distr_list.sales_employee_code = ia_sales.salesemployee and distr_list.chnl = ia_sales.distchannel \n",
    "left join (select distinct customer, chnl, cust_group from {db_name}.vw_customer_group) cg on cast(cg.customer as int) = cast(distr_list.payer as int ) and cg.chnl = ia_sales.DistChannel\n",
    "left join bo_interfaces.g_clients on g_clients.chnl = ia_sales.DistChannel and g_clients.customer = ia_sales.customer and ccompany = 'IL20'\n",
    "left join stage_dimensions.stg_items on stg_items.item_no = ia_sales.material\n",
    "where     \n",
    "    (TO_DATE(CalendarDay, 'dd/MM/yyyy') >= '{start_date}' \n",
    "     AND TO_DATE(CalendarDay, 'dd/MM/yyyy') < '{end_date}')\n",
    "     and distr_list.payer <> 4082544\n",
    "'''\n",
    "spark.sql(stmt)\n"
   ]
  },
  {
   "cell_type": "code",
   "execution_count": 0,
   "metadata": {
    "application/vnd.databricks.v1+cell": {
     "cellMetadata": {
      "byteLimit": 2048000,
      "rowLimit": 10000
     },
     "inputWidgets": {},
     "nuid": "65c34435-c7d8-4647-904c-5d5475d19238",
     "showTitle": false,
     "tableResultSettingsMap": {},
     "title": ""
    }
   },
   "outputs": [],
   "source": [
    "%python\n",
    "display(spark.sql(f\"select * from {db_name}.HB_sales\"))"
   ]
  },
  {
   "cell_type": "markdown",
   "metadata": {
    "application/vnd.databricks.v1+cell": {
     "cellMetadata": {
      "byteLimit": 2048000,
      "rowLimit": 10000
     },
     "inputWidgets": {},
     "nuid": "f2fad04a-8374-4ec8-afef-a14c5d34ef82",
     "showTitle": false,
     "tableResultSettingsMap": {},
     "title": ""
    }
   },
   "source": [
    "### Total Monthly"
   ]
  },
  {
   "cell_type": "markdown",
   "metadata": {
    "application/vnd.databricks.v1+cell": {
     "cellMetadata": {
      "byteLimit": 2048000,
      "rowLimit": 10000
     },
     "inputWidgets": {},
     "nuid": "796a6715-c0b4-446e-88b3-27e5b36de8fc",
     "showTitle": false,
     "tableResultSettingsMap": {},
     "title": ""
    }
   },
   "source": [
    "Specific case: distributors 5070229,6172353 didn't sign the new contract as of January 2025 so they follow the rules of commission and discounts calculation from Year 2024."
   ]
  },
  {
   "cell_type": "code",
   "execution_count": 0,
   "metadata": {
    "application/vnd.databricks.v1+cell": {
     "cellMetadata": {
      "byteLimit": 2048000,
      "rowLimit": 10000
     },
     "inputWidgets": {},
     "nuid": "ba84d5cf-d3d9-47da-9c47-daf65d08acbb",
     "showTitle": false,
     "tableResultSettingsMap": {},
     "title": ""
    }
   },
   "outputs": [],
   "source": [
    "%python\n",
    "stmt = f'''create or replace temporary view total_monthly_upd as\n",
    "with monthly_data as (\n",
    "  select \"3\" as SUG_Client, \"Stock\" as Result,Bruto as Total, * from {db_name}.Gross_purchase\n",
    "  union \n",
    "  select \"3\" as SUG_Client, \"Stock\" as Result,Bruto as Total, * from {db_name}.B2B_purchase\n",
    "  union\n",
    "  select \"1\" as SUG_Client, \"Direct sales\" as Result, Neto as Total,   * from {db_name}.Direct_cust_purchase\n",
    "  union\n",
    "  select \"2\" as SUG_Client, \"Sales\" as Result,Bruto as Total, * from {db_name}.HI_sales\n",
    "  union \n",
    "  select \"3\" as SUG_Client, \"Stock\" as Result,Bruto as Total, * from {db_name}.HB_sales\n",
    ")\n",
    "SELECT distinct\n",
    "case \n",
    "when monthly_data.Business = \"ILD\" and monthly_data.Category = \"ILD9\" then \"HaagenDazs\"\n",
    "when monthly_data.Business = \"ILD\" then \"NIC\"\n",
    "when monthly_data.Business = \"ILC\" then \"CHOCOLATE\"\n",
    "when monthly_data.Business = \"24U\" then \"PURINA\"\n",
    "when monthly_data.Business = \"ILF\" and cast(monthly_data.Distribution_Channel as int) =6  then \"FITNESS COOKIES\" \n",
    "when monthly_data.Business = \"ILF\" and cast(monthly_data.Distribution_Channel as int) =8 then \"BAKERY\"\n",
    "when monthly_data.Business = \"ILH\" then \"SNACKS\"\n",
    "when monthly_data.Business = \"ILM\" then \"PRETZELS\"\n",
    "when monthly_data.Business = \"03V\" then \"FITNESS\"\n",
    "when monthly_data.Business = \"ILE\" then \"CULINARY\"\n",
    "when monthly_data.Business = \"ILJ\" then \"TIVALL\"\n",
    "when monthly_data.Business = \"ILI\" then \"ZABAR\"\n",
    "when monthly_data.Business = \"ILG\" then \"BONJOUR\"\n",
    "when monthly_data.Business in (\"27I\", \"27H\", \"27F\", \"27G\") then \"MATERNA\"\n",
    "when monthly_data.CATEGORY = \"ILK1\" then \"TAPUGAN\"\n",
    "when monthly_data.CATEGORY = \"ILK2\" then \"MILOTAL\"\n",
    "when monthly_data.CATEGORY = \"ILKC\" then \"GREEN\"\n",
    "when monthly_data.CATEGORY = \"ILKD\" then \"BTHST\"\n",
    "when monthly_data.CATEGORY = \"ILK7\" then \"GAD\"\n",
    "when monthly_data.CATEGORY = \"ILK8\" then \"BARACKE\"\n",
    "when monthly_data.CATEGORY = \"ILK5\" then \"PACIFICO\"\n",
    "when monthly_data.CATEGORY = \"ILK9\" then \"CHAM\"\n",
    "when monthly_data.CATEGORY = \"ILKE\" then \"TZANANI\"\n",
    "when monthly_data.CATEGORY = \"ILK6\" then \"LANDVER\"\n",
    "when monthly_data.Business = \"ILB\" and monthly_data.CATEGORY = \"ILB5\" then \"NIDO\"\n",
    "when monthly_data.Business = \"ILB\" and monthly_data.CATEGORY <> \"ILB5\" then \"NESTEA\"\n",
    "when monthly_data.CATEGORY = \"ILK4\" AND trim(monthly_data.LP_MID) IN (\"ILK404\", \"ILK405\") then \"OFTOV FROZEN\"\n",
    "when monthly_data.CATEGORY = \"ILK4\" AND trim(monthly_data.LP_MID) NOT IN (\"ILK404\", \"ILK405\") then \"OFTOV CHILLED\"\n",
    "when monthly_data.CATEGORY = \"ILK3\" AND trim(monthly_data.LP_MID) = \"ILK302\" then \"DOROT CHILLED\"\n",
    "when monthly_data.CATEGORY = \"ILK3\" AND trim(monthly_data.LP_MID) <> \"ILK302\" then \"DOROT FROZEN\"\n",
    "end as Yazran,\n",
    "monthly_data.*,\n",
    "stg.Item_desc_eng,\n",
    "case when ( monthly_data.code_mefiz in (5070229,6172353) and  monthly_data.rec_year = 2025 and  monthly_data.rec_month =1) or  monthly_data.rec_year < 2025 then nvl(bg_percents.ahuz, 0) else 0 end as Discount_percent,\n",
    "case when ( monthly_data.code_mefiz in (5070229,6172353) and  monthly_data.rec_year = 2025 and  monthly_data.rec_month =1) or  monthly_data.rec_year < 2025 then nvl(bg_percents.AHUZ * Bruto/100,0) else 0 end as Discount,\n",
    "case \n",
    "when bg_percents.ahuz is null then 0\n",
    "when Result = 'Sales' then Neto-Bruto*nvl(bg_percents.AHUZ,0)/100 else Total*(1-nvl(bg_percents.AHUZ,0)/100) \n",
    "end as Neto_wo_discount,\n",
    "CASE \n",
    "  WHEN SUG = \"GD\" AND monthly_data.REC_YEAR >= 2025 and Distribution_channel = 6  AND SUM(Total) OVER (PARTITION BY monthly_data.Code_mefiz, monthly_data.REC_YEAR, monthly_data.REC_MONTH, monthly_data.Payer, SUG) > 30000 THEN 5  \n",
    "  else nvl(ia_percents.ahuz, 0) \n",
    "end as Commission_percent, \n",
    "(case \n",
    "  when Result = 'Sales' then Neto - Bruto*nvl(bg_percents.AHUZ,0)/100  \n",
    "  else Total*(1-nvl(bg_percents.AHUZ,0)/100) end) *        ---- logic of commission base (if sales to distributor then extracting discount)\n",
    "(CASE \n",
    "  WHEN SUG = \"GD\" AND monthly_data.REC_YEAR >= 2025 and Distribution_channel = 6 AND SUM(Total) OVER (PARTITION BY monthly_data.Code_mefiz, monthly_data.REC_YEAR, monthly_data.REC_MONTH, monthly_data.Payer, SUG) > 30000 THEN 5   --- commission percent from previous step\n",
    "  else nvl(ia_percents.ahuz, 0) end) / 100 as Commission,\n",
    "CASE WHEN SUG = \"GD\" AND monthly_data.REC_YEAR >= 2025 and Distribution_channel = 6 THEN SUM(Total) OVER (PARTITION BY monthly_data.Code_mefiz, monthly_data.REC_YEAR, monthly_data.REC_MONTH, monthly_data.Payer, SUG) else 0 END as Monthly_Sales\n",
    "from  monthly_data\n",
    "join (select distinct code_mefiz from ds_database.vw_dist_customer) ds on ds.code_mefiz = monthly_data.code_mefiz\n",
    "left join stage_dimensions.vw_dim_items stg on monthly_data.item_num = stg.item_no\n",
    "left join bo_interfaces.ia_percents_2024 ia_percents on cast(monthly_data.SUG_Client as int) = ia_percents.SUG_CLIENT\n",
    "  and cast(ia_percents.chnl as int) = cast(monthly_data.Distribution_Channel as int)\n",
    "  and ia_percents.Business = monthly_data.Business\n",
    "  and monthly_data.Commission_group = ia_percents.Cust_group\n",
    "  and ia_percents.rec_month = monthly_data.rec_month\n",
    "  and ia_percents.rec_year = (case when monthly_data.rec_year < 2025 or monthly_data.code_mefiz in (5070229,6172353) then 2024 else monthly_data.rec_year end)\n",
    "  and nvl(ia_percents.lp_high, \"*\") = case\n",
    "    when monthly_data.Business in (\"ILK\", \"ILB\")\n",
    "    or monthly_data.LP_MID = \"ILE402\"  then monthly_data.Category\n",
    "    else \"*\"  end\n",
    "  and nvl(trim(ia_percents.LP_MIDDLE), \"*\") = case when monthly_data.LP_MID in (\"ILE402\", \"ILK401\", \"ILK402\", \"ILK403\", \"ILK404\", \"ILK405\")  then monthly_data.Lp_mid    else \"*\"  end\n",
    "  and nvl(trim(ia_percents.local_product), \"*\") = case when concat(monthly_data.category,right(monthly_data.Segment, 4))= \"ILE40202\" then concat(monthly_data.category,right(monthly_data.Segment, 4)) else \"*\" end\n",
    "  and (case when ia_percents.business = \"ILM\" and trim(ia_percents.BUSINESS_DESC) = 'שוקולד' then 1 else 0 end) = (case when cast(Item_num as int) in (12532257, 12487456, 6930472, 12549875, 12481625) then 1 else 0 end)  \n",
    "left join bo_interfaces.bg_percents_2024 bg_percents on cast(monthly_data.SUG_Client as int) = bg_percents.SUG_CLIENT\n",
    "  and cast(bg_percents.chnl as int) = cast(monthly_data.Distribution_Channel as int)\n",
    "  and bg_percents.Business = monthly_data.Business\n",
    "  and monthly_data.Commission_Group = bg_percents.Cust_group\n",
    "  and bg_percents.rec_month = monthly_data.rec_month\n",
    "  and bg_percents.Sales_Org = 'IL20'\n",
    "  and nvl(bg_percents.lp_high, \"*\") = case\n",
    "    when monthly_data.Business in (\"ILK\", \"ILB\")\n",
    "    or monthly_data.Category = 'ILE4' then monthly_data.Category\n",
    "    else \"*\"  end\n",
    "  and nvl(bg_percents.lp_middle, \"*\") = case when monthly_data.Category in (\"ILK3\", \"ILK4\") then monthly_data.Lp_mid else \"*\" end\n",
    "order by Code_mefiz, rec_month,Result, Yazran'''\n",
    "spark.sql(stmt)"
   ]
  },
  {
   "cell_type": "code",
   "execution_count": 0,
   "metadata": {
    "application/vnd.databricks.v1+cell": {
     "cellMetadata": {
      "byteLimit": 2048000,
      "rowLimit": 10000
     },
     "inputWidgets": {},
     "nuid": "95f6e49f-31e4-4cb7-9a20-8128eab4bce2",
     "showTitle": false,
     "tableResultSettingsMap": {},
     "title": ""
    }
   },
   "outputs": [],
   "source": [
    "%python\n",
    "print(f'Number of lines to be updated: {spark.sql(\"select count(*) from total_monthly_upd\").collect()[0][0]: ,}')"
   ]
  },
  {
   "cell_type": "code",
   "execution_count": 0,
   "metadata": {
    "application/vnd.databricks.v1+cell": {
     "cellMetadata": {
      "byteLimit": 2048000,
      "rowLimit": 10000
     },
     "inputWidgets": {},
     "nuid": "85300115-0654-4f4a-8815-16bd64a9d9a7",
     "showTitle": false,
     "tableResultSettingsMap": {
      "0": {
       "filterBlob": "{\"filterGroups\":[],\"syncTimestamp\":1739259310515}",
       "tableResultIndex": 0
      }
     },
     "title": ""
    }
   },
   "outputs": [],
   "source": [
    "%python\n",
    "display(spark.sql(f'''select * from total_monthly_upd'''))"
   ]
  },
  {
   "cell_type": "code",
   "execution_count": 0,
   "metadata": {
    "application/vnd.databricks.v1+cell": {
     "cellMetadata": {
      "byteLimit": 2048000,
      "rowLimit": 10000
     },
     "inputWidgets": {},
     "nuid": "91e6b757-938e-47ca-aa58-53ebb020d576",
     "showTitle": false,
     "tableResultSettingsMap": {
      "0": {
       "filterBlob": "{\"filterGroups\":[],\"syncTimestamp\":1739275017370}",
       "tableResultIndex": 0
      }
     },
     "title": ""
    }
   },
   "outputs": [],
   "source": [
    "select rec_month, rec_year, document_num, sug, item_num, total, line_no, count(1) from total_monthly_upd\n",
    "group by rec_month, rec_year, document_num, sug, item_num, total, line_no\n",
    "order by count(1) desc, document_num"
   ]
  },
  {
   "cell_type": "code",
   "execution_count": 0,
   "metadata": {
    "application/vnd.databricks.v1+cell": {
     "cellMetadata": {
      "byteLimit": 2048000,
      "rowLimit": 10000
     },
     "inputWidgets": {},
     "nuid": "3a776ab9-0073-4403-8561-06016420d745",
     "showTitle": false,
     "tableResultSettingsMap": {},
     "title": ""
    }
   },
   "outputs": [],
   "source": [
    "%python\n",
    "merge_stmt = f'''MERGE INTO {db_name}.total_monthly AS T\n",
    "USING total_monthly_upd AS S\n",
    "ON T.Document_num = S.Document_Num and T.Rec_month = S.Rec_month and T.Rec_year = S.Rec_year and T.Item_Num = S.Item_Num and T.SUG = S.SUG and T.Line_no = S.Line_no\n",
    "WHEN MATCHED THEN UPDATE SET *\n",
    "WHEN NOT MATCHED THEN INSERT *\n",
    "'''\n",
    "spark.sql(merge_stmt)"
   ]
  },
  {
   "cell_type": "code",
   "execution_count": 0,
   "metadata": {
    "application/vnd.databricks.v1+cell": {
     "cellMetadata": {
      "byteLimit": 2048000,
      "rowLimit": 10000
     },
     "inputWidgets": {},
     "nuid": "950b245f-ebe1-48ca-9ac3-de9bcfff76a2",
     "showTitle": false,
     "tableResultSettingsMap": {},
     "title": ""
    }
   },
   "outputs": [],
   "source": [
    "select CODE_MEFIZ,\n",
    "cast(rec_month as int) REC_MONTH,\n",
    "cast(rec_day as int) REC_DAY,\n",
    "count(distinct document_num) as Number_of_documents,\n",
    "round(sum(Total*case when result = 'Direct sales' then 1 else 0 end),2) as Direct_sales_Sum,\n",
    "round(sum(Total*case when result = 'Sales' then 1 else 0 end),2) as Sales_Sum,\n",
    "round(sum(Total*case when result = 'Stock' then 1 else 0 end),2) as Stock_Sum\n",
    "from total_monthly_upd\n",
    "group by CODE_MEFIZ, cast(rec_month as int), cast(rec_day as int)\n",
    "order by code_mefiz, rec_day"
   ]
  },
  {
   "cell_type": "code",
   "execution_count": 0,
   "metadata": {
    "application/vnd.databricks.v1+cell": {
     "cellMetadata": {
      "byteLimit": 2048000,
      "rowLimit": 10000
     },
     "inputWidgets": {},
     "nuid": "509d4b75-1827-41e4-a9d0-604e986c89b3",
     "showTitle": false,
     "tableResultSettingsMap": {},
     "title": ""
    }
   },
   "outputs": [],
   "source": [
    " select code_mefiz, sales_person, sales_emp_name_en, round(sum(Total),2) as Total_Turnover from total_monthly_upd\n",
    " group by 1,2,3\n",
    " order by 1,2"
   ]
  },
  {
   "cell_type": "code",
   "execution_count": 0,
   "metadata": {
    "application/vnd.databricks.v1+cell": {
     "cellMetadata": {
      "byteLimit": 2048000,
      "rowLimit": 10000
     },
     "inputWidgets": {},
     "nuid": "e436f942-1093-4250-9743-82db4b2ae595",
     "showTitle": false,
     "tableResultSettingsMap": {},
     "title": ""
    }
   },
   "outputs": [],
   "source": [
    "select * from ds_database.gross_purchase\n",
    "where document_num = 1051376349 ---and item_num =12532257"
   ]
  },
  {
   "cell_type": "code",
   "execution_count": 0,
   "metadata": {
    "application/vnd.databricks.v1+cell": {
     "cellMetadata": {
      "byteLimit": 2048000,
      "rowLimit": 10000
     },
     "inputWidgets": {},
     "nuid": "3a37219f-f1c4-4be0-8dc1-64dea8169fdc",
     "showTitle": false,
     "tableResultSettingsMap": {},
     "title": ""
    },
    "jupyter": {
     "outputs_hidden": true
    }
   },
   "outputs": [],
   "source": []
  },
  {
   "cell_type": "code",
   "execution_count": 0,
   "metadata": {
    "application/vnd.databricks.v1+cell": {
     "cellMetadata": {
      "byteLimit": 2048000,
      "rowLimit": 10000
     },
     "inputWidgets": {},
     "nuid": "b8744223-cece-4baa-b56c-91d1cd3d47ce",
     "showTitle": false,
     "tableResultSettingsMap": {},
     "title": ""
    }
   },
   "outputs": [],
   "source": [
    "select *,\n",
    "rank() over (partition by DocumentID order by Material) as posnr \n",
    "from sales_extract\n",
    "where documentid=34501913746"
   ]
  },
  {
   "cell_type": "markdown",
   "metadata": {
    "application/vnd.databricks.v1+cell": {
     "cellMetadata": {
      "byteLimit": 2048000,
      "rowLimit": 10000
     },
     "inputWidgets": {},
     "nuid": "28fba495-d2d7-4318-8224-f3eae7b129ce",
     "showTitle": false,
     "tableResultSettingsMap": {},
     "title": ""
    }
   },
   "source": [
    "### Total no commission"
   ]
  },
  {
   "cell_type": "code",
   "execution_count": 0,
   "metadata": {
    "application/vnd.databricks.v1+cell": {
     "cellMetadata": {
      "byteLimit": 2048000,
      "rowLimit": 10000
     },
     "inputWidgets": {},
     "nuid": "1dd25cea-8369-40a4-96ed-cf6c276bdad9",
     "showTitle": false,
     "tableResultSettingsMap": {
      "0": {
       "filterBlob": "{\"filterGroups\":[],\"syncTimestamp\":1734530158936}",
       "tableResultIndex": 0
      }
     },
     "title": ""
    }
   },
   "outputs": [],
   "source": [
    "select  tm.Rec_month, SUG ,Code_Mefiz,POS, round(SUM(Total),2)as Total, sum(discount), avg(Commission_percent), sum(Commission) \n",
    "from ds_database.total_monthly tm\n",
    "where ---sug in (\"HI\", \"HB\")\n",
    "result = \"Direct sales\"\n",
    "and rec_year = 2025\n",
    "and rec_month = 1\n",
    "---and code_mefiz IN (6581019,7334041)\n",
    "group by Result, Code_mefiz, tm.rec_month, rec_year, sug, tm.POS\n",
    "order by Code_mefiz, rec_month,Result, rec_year, sug\n"
   ]
  },
  {
   "cell_type": "code",
   "execution_count": 0,
   "metadata": {
    "application/vnd.databricks.v1+cell": {
     "cellMetadata": {
      "byteLimit": 2048000,
      "rowLimit": 10000
     },
     "inputWidgets": {},
     "nuid": "7d8f64eb-4a18-4dbc-8d9f-f48caf3b6e6c",
     "showTitle": false,
     "tableResultSettingsMap": {},
     "title": ""
    }
   },
   "outputs": [],
   "source": [
    "select code_mefiz, payer,  cast(rec_month as int), sum(total), sum(Commission) as Monthly_Sales\n",
    " from ds_database.total_monthly\n",
    "where rec_year = 2025\n",
    "and result = 'Direct sales'\n",
    "group by code_mefiz, cast(rec_month as int), payer\n",
    "order by 1,2,3"
   ]
  },
  {
   "cell_type": "markdown",
   "metadata": {
    "application/vnd.databricks.v1+cell": {
     "cellMetadata": {
      "byteLimit": 2048000,
      "rowLimit": 10000
     },
     "inputWidgets": {},
     "nuid": "aa8258dd-c7f6-4f64-95fc-4f86e8865531",
     "showTitle": false,
     "tableResultSettingsMap": {},
     "title": ""
    }
   },
   "source": [
    "### Total with commission"
   ]
  },
  {
   "cell_type": "code",
   "execution_count": 0,
   "metadata": {
    "application/vnd.databricks.v1+cell": {
     "cellMetadata": {
      "byteLimit": 2048000,
      "rowLimit": 10000
     },
     "inputWidgets": {},
     "nuid": "c2e8e176-d6c9-41e0-a16d-9d6dea827cf3",
     "showTitle": false,
     "tableResultSettingsMap": {
      "0": {
       "filterBlob": "{\"filterGroups\":[],\"syncTimestamp\":1732524597890}",
       "tableResultIndex": 0
      }
     },
     "title": ""
    }
   },
   "outputs": [],
   "source": [
    "%python\n",
    "stmt = f'''select tm.Rec_month,Rec_year, Result,Code_Mefiz, Commission_group, yazran, round(SUM(Total),2) as Total, sum(Commission) as Commission, sum(Discount) as Discount\n",
    "from {db_name}.total_monthly tm\n",
    "group by Commission_group,Distribution_channel,Result, Code_mefiz, tm.rec_month, yazran, rec_year\n",
    "order by rec_year,distribution_channel, Code_mefiz, rec_month,Result'''\n",
    "display(spark.sql(stmt))"
   ]
  },
  {
   "cell_type": "code",
   "execution_count": 0,
   "metadata": {
    "application/vnd.databricks.v1+cell": {
     "cellMetadata": {
      "byteLimit": 2048000,
      "rowLimit": 10000
     },
     "inputWidgets": {},
     "nuid": "b5425dd1-57f5-413b-997a-28ec2746839b",
     "showTitle": false,
     "tableResultSettingsMap": {},
     "title": ""
    }
   },
   "outputs": [],
   "source": [
    "select code_mefiz, sales_person, item_num, sum(total), sum(discount), sum(commission) \n",
    "from ds_database.total_monthly\n",
    "where rec_month =11 and rec_year = 2024\n",
    "and sug = 'HI'\n",
    "group by rec_year, rec_month, code_mefiz, item_num,  Sales_Person\n",
    "order by Sales_Person, item_num"
   ]
  },
  {
   "cell_type": "code",
   "execution_count": 0,
   "metadata": {
    "application/vnd.databricks.v1+cell": {
     "cellMetadata": {
      "byteLimit": 2048000,
      "rowLimit": 10000
     },
     "inputWidgets": {},
     "nuid": "f2ae3658-7c63-465f-b782-28701dcc3b97",
     "showTitle": false,
     "tableResultSettingsMap": {},
     "title": ""
    }
   },
   "outputs": [],
   "source": []
  }
 ],
 "metadata": {
  "application/vnd.databricks.v1+notebook": {
   "computePreferences": null,
   "dashboards": [],
   "environmentMetadata": {
    "base_environment": "",
    "environment_version": "1"
   },
   "language": "sql",
   "notebookMetadata": {
    "pythonIndentUnit": 2
   },
   "notebookName": "800 - mefizim commission",
   "widgets": {}
  },
  "language_info": {
   "name": "sql"
  }
 },
 "nbformat": 4,
 "nbformat_minor": 0
}
